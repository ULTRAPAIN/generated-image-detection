{
  "cells": [
    {
      "cell_type": "markdown",
      "metadata": {
        "id": "kge2AWRM2ChE"
      },
      "source": [
        "# GAN creation"
      ]
    },
    {
      "cell_type": "code",
      "execution_count": null,
      "metadata": {
        "colab": {
          "base_uri": "https://localhost:8080/"
        },
        "id": "qjozlxQZ1lrF",
        "outputId": "bff07ca8-0f33-4d1d-c35c-31e0ba520020"
      },
      "outputs": [],
      "source": [
        "# For COLAB\n",
        "# from google.colab import drive\n",
        "# drive.mount('/content/gdrive')\n",
        "# !pip install -q kaggle\n",
        "# !mkdir ~/.kaggle\n",
        "# !cp kaggle.json ~/.kaggle/\n",
        "# !chmod 600 ~/.kaggle/kaggle.json\n",
        "# ! kaggle datasets download xhlulu/140k-real-and-fake-faces\n",
        "# ! unzip /content/140k-real-and-fake-faces.zip\n",
        "# ! pip install matplotlib"
      ]
    },
    {
      "cell_type": "code",
      "execution_count": null,
      "metadata": {
        "id": "1Sh8PurTu1pP"
      },
      "outputs": [],
      "source": [
        "import numpy as np\n",
        "import matplotlib.pyplot as plt\n",
        "import tensorflow as tf\n",
        "import os"
      ]
    },
    {
      "cell_type": "code",
      "execution_count": null,
      "metadata": {
        "colab": {
          "base_uri": "https://localhost:8080/"
        },
        "id": "AX6fDSB5u1pU",
        "outputId": "78ada909-bdf5-489d-96fc-534fb4bc09f1"
      },
      "outputs": [],
      "source": [
        "from tensorflow.python.client import device_lib\n",
        "print(device_lib.list_local_devices())"
      ]
    },
    {
      "cell_type": "code",
      "execution_count": null,
      "metadata": {
        "colab": {
          "base_uri": "https://localhost:8080/"
        },
        "id": "3GXMi1ycu1pV",
        "outputId": "0a0f3b85-f620-4527-87b7-c6ca714b9edb"
      },
      "outputs": [],
      "source": [
        "gpus = tf.config.list_physical_devices('GPU')\n",
        "if gpus:\n",
        "  try:\n",
        "    # Currently, memory growth needs to be the same across GPUs\n",
        "    for gpu in gpus:\n",
        "      tf.config.experimental.set_memory_growth(gpu, True)\n",
        "    logical_gpus = tf.config.list_logical_devices('GPU')\n",
        "    print(len(gpus), \"Physical GPUs,\", len(logical_gpus), \"Logical GPUs\")\n",
        "  except RuntimeError as e:\n",
        "    # Memory growth must be set before GPUs have been initialized\n",
        "    print(e)"
      ]
    },
    {
      "cell_type": "markdown",
      "metadata": {
        "id": "Qt6xH9_ou1pW"
      },
      "source": [
        "## Dataset loading"
      ]
    },
    {
      "cell_type": "code",
      "execution_count": null,
      "metadata": {
        "id": "27np0gNROdY_"
      },
      "outputs": [],
      "source": [
        "from keras.preprocessing.image import ImageDataGenerator"
      ]
    },
    {
      "cell_type": "code",
      "execution_count": null,
      "metadata": {
        "id": "ZKrrQ_DIu1pY"
      },
      "outputs": [],
      "source": [
        "BATCH_SIZE = 128\n",
        "image_height = 64\n",
        "image_width = 64\n",
        "latent_features = 100\n",
        "num_images = 1000"
      ]
    },
    {
      "cell_type": "code",
      "execution_count": null,
      "metadata": {
        "id": "1n8dQrZVOf5D"
      },
      "outputs": [],
      "source": [
        "# Define the input and output directories\n",
        "input_directory = 'real_vs_fake/real-vs-fake/test/'\n",
        "\n",
        "# Create a dataset from the images\n",
        "real_folder = os.path.join(input_directory, 'real')\n",
        "image_paths = [os.path.join(real_folder, filename) for filename in os.listdir(real_folder)[:num_images]]\n",
        "\n",
        "# Function to preprocess the image\n",
        "def preprocess_image(image_path):\n",
        "    img = tf.io.read_file(image_path)\n",
        "    img = tf.image.decode_jpeg(img, channels=3)\n",
        "    img = tf.image.resize(img, [image_height, image_width])\n",
        "    img = tf.cast(img, tf.float32)\n",
        "    img = (img - 127.5) / 127.5\n",
        "    return img\n",
        "\n",
        "# Create a dataset from the image paths\n",
        "dataset = tf.data.Dataset.from_tensor_slices(image_paths)\n",
        "dataset = dataset.map(preprocess_image, num_parallel_calls=tf.data.experimental.AUTOTUNE)\n",
        "dataset = dataset.batch(BATCH_SIZE)"
      ]
    },
    {
      "cell_type": "code",
      "execution_count": null,
      "metadata": {
        "colab": {
          "base_uri": "https://localhost:8080/",
          "height": 807
        },
        "id": "LRtCtqvZu1pZ",
        "outputId": "506cdc3f-a26b-4972-88f1-39404ff56ac0"
      },
      "outputs": [],
      "source": [
        "for batch in dataset.take(1):  # Take the first batch for display\n",
        "    batch = (batch + 1) / 2\n",
        "    plt.figure(figsize=(10, 10))\n",
        "    for i in range(min(BATCH_SIZE, 9)):\n",
        "        plt.subplot(3, 3, i + 1)\n",
        "        plt.imshow(batch[i].numpy())\n",
        "        plt.axis(\"off\")\n",
        "    plt.show()"
      ]
    },
    {
      "cell_type": "markdown",
      "metadata": {
        "id": "20TJuQ0u2rtO"
      },
      "source": [
        "## GAN architecture"
      ]
    },
    {
      "cell_type": "code",
      "execution_count": null,
      "metadata": {
        "id": "a9eDGwSC2tg7"
      },
      "outputs": [],
      "source": [
        "from keras.initializers import RandomNormal\n",
        "from keras.models import Sequential\n",
        "from keras.layers import Conv2D, Dense, Flatten, Reshape, LeakyReLU, Dropout, Conv2DTranspose, BatchNormalization"
      ]
    },
    {
      "cell_type": "code",
      "execution_count": null,
      "metadata": {
        "colab": {
          "base_uri": "https://localhost:8080/"
        },
        "id": "Uen8TWNR2yXa",
        "outputId": "6b20c9bb-b698-48c1-cec2-7d5219ca6d31"
      },
      "outputs": [],
      "source": [
        "def build_generator():\n",
        "    init = RandomNormal(stddev=0.02, seed=69)\n",
        "    model = Sequential()\n",
        "\n",
        "    model.add(Dense(4*4*1024, input_dim=latent_features, kernel_initializer=init))\n",
        "    model.add(BatchNormalization())\n",
        "    model.add(LeakyReLU(0.2))\n",
        "    model.add(Reshape((4,4,1024)))\n",
        "\n",
        "    model.add(Conv2DTranspose(512, 3, 1,padding='same', kernel_initializer=init))\n",
        "    model.add(BatchNormalization())\n",
        "    model.add(LeakyReLU(0.2))\n",
        "\n",
        "    model.add(Conv2DTranspose(256, 3, 2,padding='same', kernel_initializer=init))\n",
        "    model.add(BatchNormalization())\n",
        "    model.add(LeakyReLU(0.2))\n",
        "\n",
        "    model.add(Conv2DTranspose(128, 3, 2,padding='same', kernel_initializer=init))\n",
        "    model.add(BatchNormalization())\n",
        "    model.add(LeakyReLU(0.2))\n",
        "\n",
        "    model.add(Conv2DTranspose(64, 3, 2,padding='same', kernel_initializer=init))\n",
        "    model.add(BatchNormalization())\n",
        "    model.add(LeakyReLU(0.2))\n",
        "\n",
        "    model.add(Conv2DTranspose(3, 3, 2,padding='same', activation='tanh', kernel_initializer=init))\n",
        "\n",
        "    return model\n",
        "\n",
        "generator = build_generator()\n",
        "generator.summary()"
      ]
    },
    {
      "cell_type": "code",
      "execution_count": null,
      "metadata": {
        "colab": {
          "base_uri": "https://localhost:8080/",
          "height": 1000
        },
        "id": "apYqdZtF3FIT",
        "outputId": "107c53ec-e35f-4e7c-a8fd-782794cf289b"
      },
      "outputs": [],
      "source": [
        "img = generator.predict(np.random.normal(size=(1, latent_features, 1)))\n",
        "plt.imshow(img[0])"
      ]
    },
    {
      "cell_type": "code",
      "execution_count": null,
      "metadata": {
        "colab": {
          "base_uri": "https://localhost:8080/"
        },
        "id": "8F-nEObe3X5j",
        "outputId": "142b81d2-7f3e-4676-a024-6bf180dc0b33"
      },
      "outputs": [],
      "source": [
        "def build_discriminator():\n",
        "    init = RandomNormal(stddev=0.02, seed=69)\n",
        "    model = Sequential()\n",
        "    \n",
        "    model.add(Conv2D(64, 3, 2, padding='same', input_shape = (image_width,image_height,3), kernel_initializer=init))\n",
        "    model.add(LeakyReLU(0.2))\n",
        "    model.add(Dropout(0.3))\n",
        " \n",
        "    model.add(Conv2D(128, 3, 2, padding='same', kernel_initializer=init))\n",
        "    model.add(BatchNormalization())\n",
        "    model.add(LeakyReLU(0.2))\n",
        "    model.add(Dropout(0.3))\n",
        "\n",
        "    model.add(Conv2D(256, 3, 2, padding='same', kernel_initializer=init))\n",
        "    model.add(BatchNormalization())\n",
        "    model.add(LeakyReLU(0.2))\n",
        "    model.add(Dropout(0.3))\n",
        "\n",
        "    model.add(Conv2D(512, 3, 2, padding='same', kernel_initializer=init))\n",
        "    model.add(BatchNormalization())\n",
        "    model.add(LeakyReLU(0.2))\n",
        "    model.add(Dropout(0.3))\n",
        "\n",
        "    model.add(Flatten())\n",
        "    model.add(Dense(1, activation='sigmoid'))\n",
        "\n",
        "    return model\n",
        "\n",
        "discriminator = build_discriminator()\n",
        "discriminator.summary()"
      ]
    },
    {
      "cell_type": "code",
      "execution_count": null,
      "metadata": {
        "colab": {
          "base_uri": "https://localhost:8080/"
        },
        "id": "5xtmXQdd3mMi",
        "outputId": "3af4881e-86f8-4399-d40b-177805c0713f"
      },
      "outputs": [],
      "source": [
        "img = generator.predict(np.random.normal(size=(4, latent_features, 1)))\n",
        "discriminator.predict(img)"
      ]
    },
    {
      "cell_type": "markdown",
      "metadata": {
        "id": "rXaiomkD33M1"
      },
      "source": [
        "## Training loop"
      ]
    },
    {
      "cell_type": "code",
      "execution_count": null,
      "metadata": {},
      "outputs": [],
      "source": [
        "# from keras.models import load_model\n",
        "# generator = load_model('models\\generator.h5')\n",
        "# discriminator = load_model('models\\discriminator.h5')"
      ]
    },
    {
      "cell_type": "code",
      "execution_count": null,
      "metadata": {
        "id": "L3WXmHfZ35Qh"
      },
      "outputs": [],
      "source": [
        "from keras.models import Model\n",
        "from keras.optimizers import Adam\n",
        "from keras.losses import BinaryCrossentropy\n",
        "from keras.utils import array_to_img\n",
        "from keras.callbacks import Callback"
      ]
    },
    {
      "cell_type": "code",
      "execution_count": null,
      "metadata": {
        "id": "88o1jvCc4GOe"
      },
      "outputs": [],
      "source": [
        "g_opt = Adam(learning_rate=0.0002,beta_1=0.5)\n",
        "d_opt = Adam(learning_rate=0.0002,beta_1=0.5)\n",
        "g_loss = BinaryCrossentropy()\n",
        "d_loss = BinaryCrossentropy()"
      ]
    },
    {
      "cell_type": "code",
      "execution_count": null,
      "metadata": {
        "id": "Rz5MSHRB4Ozf"
      },
      "outputs": [],
      "source": [
        "class GAN(Model):\n",
        "    def __init__(self, generator, discriminator, *args, **kwargs):\n",
        "        # Pass through args and kwargs to base class\n",
        "        super().__init__(*args, **kwargs)\n",
        "\n",
        "        # Create attributes for gen and disc\n",
        "        self.generator = generator\n",
        "        self.discriminator = discriminator\n",
        "\n",
        "    def compile(self, g_opt, d_opt, g_loss, d_loss, *args, **kwargs):\n",
        "        # Compile with base class\n",
        "        super().compile(*args, **kwargs)\n",
        "\n",
        "        # Create attributes for losses and optimizers\n",
        "        self.g_opt = g_opt\n",
        "        self.d_opt = d_opt\n",
        "        self.g_loss = g_loss\n",
        "        self.d_loss = d_loss\n",
        "\n",
        "    def train_step(self, batch):\n",
        "        # Get the data\n",
        "\n",
        "        # Train the discriminator for real imgs\n",
        "        with tf.GradientTape() as d_tape:\n",
        "            real_images = batch\n",
        "            ypred_real = self.discriminator(real_images, training=True)\n",
        "            y_real = tf.ones_like(ypred_real)\n",
        "            # noise_real = -0.00*tf.random.uniform(tf.shape(ypred_real))\n",
        "            # y_real += noise_real\n",
        "            real_d_loss = self.d_loss(y_real, ypred_real)\n",
        "\n",
        "            fake_images = self.generator(tf.random.normal((BATCH_SIZE, latent_features, 1)), training=False)\n",
        "            ypred_fake = self.discriminator(fake_images, training=True)\n",
        "            y_fake = tf.zeros_like(ypred_fake)\n",
        "            fake_d_loss = self.d_loss(y_fake, ypred_fake)\n",
        "\n",
        "            d_loss = real_d_loss + fake_d_loss\n",
        "        # Apply backpropagation - nn learn\n",
        "        dgrad = d_tape.gradient(d_loss, self.discriminator.trainable_variables)\n",
        "        self.d_opt.apply_gradients(zip(dgrad, self.discriminator.trainable_variables))\n",
        "\n",
        "        # Train the generator\n",
        "        with tf.GradientTape() as g_tape:\n",
        "            gen_images = self.generator(tf.random.normal((BATCH_SIZE,latent_features,1)), training=True)\n",
        "            predicted_labels = self.discriminator(gen_images, training=False)\n",
        "            g_loss = self.g_loss(tf.ones_like(predicted_labels), predicted_labels)\n",
        "        # Apply backprop\n",
        "        ggrad = g_tape.gradient(g_loss, self.generator.trainable_variables)\n",
        "        self.g_opt.apply_gradients(zip(ggrad, self.generator.trainable_variables))\n",
        "\n",
        "        return {\"d_loss\":d_loss, \"g_loss\":g_loss}"
      ]
    },
    {
      "cell_type": "code",
      "execution_count": null,
      "metadata": {
        "id": "HJR3HTsr4SQj"
      },
      "outputs": [],
      "source": [
        "gan = GAN(generator, discriminator)\n",
        "gan.compile(g_opt, d_opt, g_loss, d_loss)"
      ]
    },
    {
      "cell_type": "code",
      "execution_count": null,
      "metadata": {
        "id": "oZgr9jxY4X-S"
      },
      "outputs": [],
      "source": [
        "class ModelMonitor(Callback):\n",
        "    def __init__(self, latent_dim=latent_features):\n",
        "        self.latent_dim = latent_dim\n",
        "\n",
        "    def on_epoch_end(self, epoch, logs=None):\n",
        "        if epoch % 10 == 0:\n",
        "            random_latent_vectors = tf.random.uniform((1, self.latent_dim,1))\n",
        "            generated_images = self.model.generator(random_latent_vectors)\n",
        "            generated_images = (generated_images + 1) / 2\n",
        "            generated_images = generated_images.numpy()\n",
        "            img = array_to_img(generated_images[0])\n",
        "            # os.makedirs(\"training/\", exist_ok=True)\n",
        "            img.save(f'training/{epoch}_generated_img.png')"
      ]
    },
    {
      "cell_type": "markdown",
      "metadata": {
        "id": "gY9e10pb4daj"
      },
      "source": [
        "## Training"
      ]
    },
    {
      "cell_type": "code",
      "execution_count": null,
      "metadata": {
        "colab": {
          "base_uri": "https://localhost:8080/"
        },
        "id": "zi8VqtIS4e36",
        "outputId": "17786a06-adcf-4649-8fde-ee72d539ee69"
      },
      "outputs": [],
      "source": [
        "hist = gan.fit(dataset, epochs=100, callbacks=[ModelMonitor()])"
      ]
    },
    {
      "cell_type": "code",
      "execution_count": null,
      "metadata": {
        "colab": {
          "base_uri": "https://localhost:8080/",
          "height": 478
        },
        "id": "64CgMB764imz",
        "outputId": "b12979c5-7f13-44a4-91ce-6ad0b53e508d"
      },
      "outputs": [],
      "source": [
        "plt.suptitle('Loss')\n",
        "plt.plot(hist.history['d_loss'], label='d_loss')\n",
        "plt.plot(hist.history['g_loss'], label='g_loss')\n",
        "plt.legend()\n",
        "plt.show()"
      ]
    },
    {
      "cell_type": "code",
      "execution_count": null,
      "metadata": {
        "colab": {
          "base_uri": "https://localhost:8080/"
        },
        "id": "oKTYzDn245sY",
        "outputId": "60224d3e-a182-462b-9cda-3df66acdb959"
      },
      "outputs": [],
      "source": [
        "# generator.save('models/generator.h5')\n",
        "# discriminator.save('models/discriminator.h5')"
      ]
    },
    {
      "cell_type": "markdown",
      "metadata": {
        "id": "qHLZ3Uur4lDl"
      },
      "source": [
        "## Testing"
      ]
    },
    {
      "cell_type": "code",
      "execution_count": null,
      "metadata": {
        "colab": {
          "base_uri": "https://localhost:8080/",
          "height": 1000
        },
        "id": "Ml1OAwJT4mVC",
        "outputId": "06e5bc8c-14b4-4b0f-9c8c-bf5bb3e04b12"
      },
      "outputs": [],
      "source": [
        "img = generator.predict(tf.random.normal((1, latent_features, 1)))\n",
        "img = (img + 1) / 2\n",
        "plt.imshow(img)"
      ]
    }
  ],
  "metadata": {
    "accelerator": "GPU",
    "colab": {
      "gpuType": "T4",
      "provenance": []
    },
    "kernelspec": {
      "display_name": "Python 3",
      "name": "python3"
    },
    "language_info": {
      "codemirror_mode": {
        "name": "ipython",
        "version": 3
      },
      "file_extension": ".py",
      "mimetype": "text/x-python",
      "name": "python",
      "nbconvert_exporter": "python",
      "pygments_lexer": "ipython3",
      "version": "3.10.5"
    }
  },
  "nbformat": 4,
  "nbformat_minor": 0
}
