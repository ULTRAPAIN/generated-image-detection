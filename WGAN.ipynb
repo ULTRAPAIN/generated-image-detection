{
  "cells": [
    {
      "cell_type": "markdown",
      "metadata": {
        "id": "lTYgoWR3_nEl"
      },
      "source": [
        "# PYTORCH WGAN"
      ]
    },
    {
      "cell_type": "code",
      "execution_count": 1,
      "metadata": {
        "id": "hsdsk_XZ_nEm"
      },
      "outputs": [],
      "source": [
        "# For COLAB\n",
        "# from google.colab import drive\n",
        "# drive.mount('/content/gdrive')\n",
        "\n",
        "# !pip install kaggle Pillow imageio matplotlib pandas torchsummary\n",
        "# !mkdir ~/.kaggle\n",
        "# !cp kaggle.json ~/.kaggle/\n",
        "# !chmod 600 ~/.kaggle/kaggle.json\n",
        "# ! kaggle datasets download xhlulu/140k-real-and-fake-faces\n",
        "# # ! unzip -q 140k-real-and-fake-faces.zip\n",
        "\n",
        "# import shutil\n",
        "# shutil.unpack_archive('140k-real-and-fake-faces.zip')"
      ]
    },
    {
      "cell_type": "code",
      "execution_count": 2,
      "metadata": {
        "id": "scIZg0Ke_nEn"
      },
      "outputs": [],
      "source": [
        "import os\n",
        "import numpy as np\n",
        "import datetime\n",
        "from copy import deepcopy\n",
        "from tqdm import tqdm\n",
        "import random\n",
        "import matplotlib.pyplot as plt\n",
        "import torch\n",
        "import torch.nn as nn\n",
        "import torch.optim as optim\n",
        "from torch.utils.data import DataLoader, Subset\n",
        "import torchvision\n",
        "from torchvision.utils import save_image\n",
        "import torchvision.datasets as datasets\n",
        "import torchvision.transforms as transforms\n",
        "from torchsummary import summary"
      ]
    },
    {
      "cell_type": "code",
      "execution_count": 3,
      "metadata": {
        "id": "DKra97yF_nEo"
      },
      "outputs": [],
      "source": [
        "# Hyperparameters\n",
        "device = \"cuda\" if torch.cuda.is_available() else \"cpu\"\n",
        "NUM_EPOCHS = 20\n",
        "BATCH_SIZE = 256\n",
        "TRAIN_SUBSET_SIZE = 25000\n",
        "LEARNING_RATE = 1e-4\n",
        "IMAGE_SIZE = 64\n",
        "CHANNELS_IMG = 3\n",
        "Z_DIM = 100\n",
        "FEATURES_CRITIC = 64\n",
        "FEATURES_GEN = 64\n",
        "CRITIC_ITERATIONS = 5\n",
        "LAMBDA_GP = 10"
      ]
    },
    {
      "cell_type": "markdown",
      "metadata": {
        "id": "OQBrFW_x_nEo"
      },
      "source": [
        "## Model"
      ]
    },
    {
      "cell_type": "code",
      "execution_count": 4,
      "metadata": {
        "colab": {
          "base_uri": "https://localhost:8080/"
        },
        "id": "UshwClq0_nEo",
        "outputId": "b0072080-10ac-4bf8-9206-89750b6be747"
      },
      "outputs": [
        {
          "name": "stdout",
          "output_type": "stream",
          "text": [
            "----------------------------------------------------------------\n",
            "        Layer (type)               Output Shape         Param #\n",
            "================================================================\n",
            "            Conv2d-1           [-1, 64, 32, 32]           3,136\n",
            "         LeakyReLU-2           [-1, 64, 32, 32]               0\n",
            "            Conv2d-3          [-1, 128, 16, 16]         131,072\n",
            "    InstanceNorm2d-4          [-1, 128, 16, 16]             256\n",
            "         LeakyReLU-5          [-1, 128, 16, 16]               0\n",
            "            Conv2d-6            [-1, 256, 8, 8]         524,288\n",
            "    InstanceNorm2d-7            [-1, 256, 8, 8]             512\n",
            "         LeakyReLU-8            [-1, 256, 8, 8]               0\n",
            "            Conv2d-9            [-1, 512, 4, 4]       2,097,152\n",
            "   InstanceNorm2d-10            [-1, 512, 4, 4]           1,024\n",
            "        LeakyReLU-11            [-1, 512, 4, 4]               0\n",
            "           Conv2d-12           [-1, 1024, 2, 2]       8,388,608\n",
            "   InstanceNorm2d-13           [-1, 1024, 2, 2]           2,048\n",
            "        LeakyReLU-14           [-1, 1024, 2, 2]               0\n",
            "           Conv2d-15              [-1, 1, 1, 1]           4,097\n",
            "================================================================\n",
            "Total params: 11,152,193\n",
            "Trainable params: 11,152,193\n",
            "Non-trainable params: 0\n",
            "----------------------------------------------------------------\n",
            "Input size (MB): 0.05\n",
            "Forward/backward pass size (MB): 2.41\n",
            "Params size (MB): 42.54\n",
            "Estimated Total Size (MB): 45.00\n",
            "----------------------------------------------------------------\n"
          ]
        }
      ],
      "source": [
        "class Discriminator(nn.Module):\n",
        "    def __init__(self, channels_img, features_d):\n",
        "        super(Discriminator, self).__init__()\n",
        "        self.disc = nn.Sequential(\n",
        "            # input: N x channels_img x 64 x 64\n",
        "            nn.Conv2d(\n",
        "                channels_img, features_d, kernel_size=4, stride=2, padding=1\n",
        "            ),\n",
        "            nn.LeakyReLU(0.2),\n",
        "            # _block(in_channels, out_channels, kernel_size, stride, padding)\n",
        "            self._block(features_d, features_d * 2, 4, 2, 1),\n",
        "            self._block(features_d * 2, features_d * 4, 4, 2, 1),\n",
        "            self._block(features_d * 4, features_d * 8, 4, 2, 1),\n",
        "            self._block(features_d * 8, features_d * 16, 4, 2, 1),\n",
        "            # After all _block img output is 4x4 (Conv2d below makes into 1x1)\n",
        "            nn.Conv2d(features_d * 16, 1, kernel_size=2, stride=1, padding=0),\n",
        "        )\n",
        "\n",
        "    def _block(self, in_channels, out_channels, kernel_size, stride, padding):\n",
        "        return nn.Sequential(\n",
        "            nn.Conv2d(\n",
        "                in_channels,\n",
        "                out_channels,\n",
        "                kernel_size,\n",
        "                stride,\n",
        "                padding,\n",
        "                bias=False,\n",
        "            ),\n",
        "            nn.InstanceNorm2d(out_channels, affine=True),\n",
        "            nn.LeakyReLU(0.2),\n",
        "        )\n",
        "\n",
        "    def forward(self, x):\n",
        "        return self.disc(x)\n",
        "\n",
        "d = Discriminator(3, 64)\n",
        "d.cuda()\n",
        "summary(d, ( 3, 64, 64))\n",
        "del d\n",
        "torch.cuda.empty_cache()"
      ]
    },
    {
      "cell_type": "code",
      "execution_count": 5,
      "metadata": {
        "colab": {
          "base_uri": "https://localhost:8080/"
        },
        "id": "kY-tsXMY_nEp",
        "outputId": "f4fb5580-590c-446f-9730-8f85d8319767"
      },
      "outputs": [
        {
          "name": "stdout",
          "output_type": "stream",
          "text": [
            "----------------------------------------------------------------\n",
            "        Layer (type)               Output Shape         Param #\n",
            "================================================================\n",
            "   ConvTranspose2d-1           [-1, 1024, 2, 2]         409,600\n",
            "       BatchNorm2d-2           [-1, 1024, 2, 2]           2,048\n",
            "              ReLU-3           [-1, 1024, 2, 2]               0\n",
            "   ConvTranspose2d-4            [-1, 512, 4, 4]       8,388,608\n",
            "       BatchNorm2d-5            [-1, 512, 4, 4]           1,024\n",
            "              ReLU-6            [-1, 512, 4, 4]               0\n",
            "   ConvTranspose2d-7            [-1, 256, 8, 8]       2,097,152\n",
            "       BatchNorm2d-8            [-1, 256, 8, 8]             512\n",
            "              ReLU-9            [-1, 256, 8, 8]               0\n",
            "  ConvTranspose2d-10          [-1, 128, 16, 16]         524,288\n",
            "      BatchNorm2d-11          [-1, 128, 16, 16]             256\n",
            "             ReLU-12          [-1, 128, 16, 16]               0\n",
            "  ConvTranspose2d-13           [-1, 64, 32, 32]         131,072\n",
            "      BatchNorm2d-14           [-1, 64, 32, 32]             128\n",
            "             ReLU-15           [-1, 64, 32, 32]               0\n",
            "  ConvTranspose2d-16            [-1, 3, 64, 64]           3,075\n",
            "             Tanh-17            [-1, 3, 64, 64]               0\n",
            "================================================================\n",
            "Total params: 11,557,763\n",
            "Trainable params: 11,557,763\n",
            "Non-trainable params: 0\n",
            "----------------------------------------------------------------\n",
            "Input size (MB): 0.00\n",
            "Forward/backward pass size (MB): 3.09\n",
            "Params size (MB): 44.09\n",
            "Estimated Total Size (MB): 47.18\n",
            "----------------------------------------------------------------\n"
          ]
        }
      ],
      "source": [
        "class Generator(nn.Module):\n",
        "    def __init__(self, channels_noise, channels_img, features_g):\n",
        "        super(Generator, self).__init__()\n",
        "        self.net = nn.Sequential(\n",
        "            # Input: N x channels_noise x 1 x 1\n",
        "            self._block(channels_noise, features_g * 16, 2, 1, 0),  # img: 2x2\n",
        "            self._block(features_g * 16, features_g * 8, 4, 2, 1),  # img: 4x4\n",
        "            self._block(features_g * 8, features_g * 4, 4, 2, 1),  # img: 8x8\n",
        "            self._block(features_g * 4, features_g * 2, 4, 2, 1),  # img: 16x16\n",
        "            self._block(features_g * 2, features_g, 4, 2, 1),  # img: 32x32\n",
        "            nn.ConvTranspose2d(\n",
        "                features_g, channels_img, kernel_size=4, stride=2, padding=1\n",
        "            ),\n",
        "            # Output: N x channels_img x 64 x 64\n",
        "            nn.Tanh(),\n",
        "        )\n",
        "\n",
        "    def _block(self, in_channels, out_channels, kernel_size, stride, padding):\n",
        "        return nn.Sequential(\n",
        "            nn.ConvTranspose2d(\n",
        "                in_channels,\n",
        "                out_channels,\n",
        "                kernel_size,\n",
        "                stride,\n",
        "                padding,\n",
        "                bias=False,\n",
        "            ),\n",
        "            nn.BatchNorm2d(out_channels),\n",
        "            nn.ReLU(),\n",
        "        )\n",
        "\n",
        "    def forward(self, x):\n",
        "        return self.net(x)\n",
        "\n",
        "g = Generator(100, 3, 64)\n",
        "g.cuda()\n",
        "summary(g, ( 100, 1, 1))\n",
        "del g\n",
        "torch.cuda.empty_cache()"
      ]
    },
    {
      "cell_type": "markdown",
      "metadata": {
        "id": "zAXFEret_nEp"
      },
      "source": [
        "## Training"
      ]
    },
    {
      "cell_type": "markdown",
      "metadata": {
        "id": "cGJNdm4v_nEq"
      },
      "source": [
        "### Utils"
      ]
    },
    {
      "cell_type": "code",
      "execution_count": null,
      "metadata": {
        "id": "QZO6SEnW_nEq"
      },
      "outputs": [],
      "source": [
        "def initialize_weights(model):\n",
        "    # Initializes weights according to the DCGAN paper\n",
        "    for m in model.modules():\n",
        "        if isinstance(m, (nn.Conv2d, nn.ConvTranspose2d, nn.BatchNorm2d)):\n",
        "            nn.init.normal_(m.weight.data, 0.0, 0.02)\n",
        "\n",
        "def gradient_penalty(critic, real, fake, device=\"cpu\"):\n",
        "    BATCH_SIZE, C, H, W = real.shape\n",
        "    alpha = torch.rand((BATCH_SIZE, 1, 1, 1)).repeat(1, C, H, W).to(device)\n",
        "    interpolated_images = real * alpha + fake * (1 - alpha)\n",
        "\n",
        "    # Calculate critic scores\n",
        "    mixed_scores = critic(interpolated_images)\n",
        "\n",
        "    # Take the gradient of the scores with respect to the images\n",
        "    gradient = torch.autograd.grad(\n",
        "        inputs=interpolated_images,\n",
        "        outputs=mixed_scores,\n",
        "        grad_outputs=torch.ones_like(mixed_scores),\n",
        "        create_graph=True,\n",
        "        retain_graph=True,\n",
        "    )[0]\n",
        "    gradient = gradient.view(gradient.shape[0], -1)\n",
        "    gradient_norm = gradient.norm(2, dim=1)\n",
        "    gradient_penalty = torch.mean((gradient_norm - 1) ** 2)\n",
        "    return gradient_penalty\n",
        "\n",
        "\n",
        "def save_checkpoint(state, filename=\"wgan.pth.tar\"):\n",
        "    print(\"=> Saving checkpoint\")\n",
        "    torch.save(state, filename)\n",
        "\n",
        "\n",
        "def load_checkpoint(checkpoint, gen, disc):\n",
        "    print(\"=> Loading checkpoint\")\n",
        "    gen.load_state_dict(checkpoint['gen'])\n",
        "    disc.load_state_dict(checkpoint['disc'])"
      ]
    },
    {
      "cell_type": "markdown",
      "metadata": {
        "id": "L7SR7Vav_nEq"
      },
      "source": [
        "### Training loop"
      ]
    },
    {
      "cell_type": "code",
      "execution_count": null,
      "metadata": {
        "id": "us7ZMyMO_nEq",
        "outputId": "dac00b3a-b306-4dd5-947d-5a3ba265e26f"
      },
      "outputs": [
        {
          "name": "stdout",
          "output_type": "stream",
          "text": [
            "Epoch [11/20] "
          ]
        },
        {
          "name": "stderr",
          "output_type": "stream",
          "text": [
            "Batches: 100%|██████████| 98/98 [01:46<00:00,  1.08s/it]\n"
          ]
        },
        {
          "name": "stdout",
          "output_type": "stream",
          "text": [
            "Loss D: -16.5341, Loss G: 97.9687\n",
            "Epoch [12/20] "
          ]
        },
        {
          "name": "stderr",
          "output_type": "stream",
          "text": [
            "Batches: 100%|██████████| 98/98 [01:44<00:00,  1.07s/it]\n"
          ]
        },
        {
          "name": "stdout",
          "output_type": "stream",
          "text": [
            "Loss D: -13.2930, Loss G: 93.4868\n",
            "Epoch [13/20] "
          ]
        },
        {
          "name": "stderr",
          "output_type": "stream",
          "text": [
            "Batches: 100%|██████████| 98/98 [01:44<00:00,  1.07s/it]\n"
          ]
        },
        {
          "name": "stdout",
          "output_type": "stream",
          "text": [
            "Loss D: -13.6475, Loss G: 82.9443\n",
            "Epoch [14/20] "
          ]
        },
        {
          "name": "stderr",
          "output_type": "stream",
          "text": [
            "Batches: 100%|██████████| 98/98 [01:45<00:00,  1.08s/it]\n"
          ]
        },
        {
          "name": "stdout",
          "output_type": "stream",
          "text": [
            "Loss D: -14.0204, Loss G: 87.5858\n",
            "Epoch [15/20] "
          ]
        },
        {
          "name": "stderr",
          "output_type": "stream",
          "text": [
            "Batches: 100%|██████████| 98/98 [01:44<00:00,  1.07s/it]\n"
          ]
        },
        {
          "name": "stdout",
          "output_type": "stream",
          "text": [
            "Loss D: -11.2203, Loss G: 76.3394\n",
            "Epoch [16/20] "
          ]
        },
        {
          "name": "stderr",
          "output_type": "stream",
          "text": [
            "Batches: 100%|██████████| 98/98 [01:45<00:00,  1.07s/it]\n"
          ]
        },
        {
          "name": "stdout",
          "output_type": "stream",
          "text": [
            "Loss D: -10.0651, Loss G: 80.9832\n",
            "Epoch [17/20] "
          ]
        },
        {
          "name": "stderr",
          "output_type": "stream",
          "text": [
            "Batches: 100%|██████████| 98/98 [01:45<00:00,  1.07s/it]\n"
          ]
        },
        {
          "name": "stdout",
          "output_type": "stream",
          "text": [
            "Loss D: -12.1999, Loss G: 89.4890\n",
            "Epoch [18/20] "
          ]
        },
        {
          "name": "stderr",
          "output_type": "stream",
          "text": [
            "Batches: 100%|██████████| 98/98 [01:44<00:00,  1.06s/it]\n"
          ]
        },
        {
          "name": "stdout",
          "output_type": "stream",
          "text": [
            "Loss D: -10.8098, Loss G: 81.5087\n",
            "Epoch [19/20] "
          ]
        },
        {
          "name": "stderr",
          "output_type": "stream",
          "text": [
            "Batches: 100%|██████████| 98/98 [01:44<00:00,  1.07s/it]\n"
          ]
        },
        {
          "name": "stdout",
          "output_type": "stream",
          "text": [
            "Loss D: -10.2276, Loss G: 79.7577\n",
            "Epoch [20/20] "
          ]
        },
        {
          "name": "stderr",
          "output_type": "stream",
          "text": [
            "Batches: 100%|██████████| 98/98 [01:45<00:00,  1.07s/it]\n"
          ]
        },
        {
          "name": "stdout",
          "output_type": "stream",
          "text": [
            "Loss D: -10.6046, Loss G: 77.6869\n",
            "Epoch [21/20] "
          ]
        },
        {
          "name": "stderr",
          "output_type": "stream",
          "text": [
            "Batches: 100%|██████████| 98/98 [01:46<00:00,  1.09s/it]\n"
          ]
        },
        {
          "name": "stdout",
          "output_type": "stream",
          "text": [
            "Loss D: -9.7136, Loss G: 74.1605\n",
            "Epoch [22/20] "
          ]
        },
        {
          "name": "stderr",
          "output_type": "stream",
          "text": [
            "Batches: 100%|██████████| 98/98 [01:46<00:00,  1.08s/it]\n"
          ]
        },
        {
          "name": "stdout",
          "output_type": "stream",
          "text": [
            "Loss D: -11.4247, Loss G: 72.7803\n",
            "Epoch [23/20] "
          ]
        },
        {
          "name": "stderr",
          "output_type": "stream",
          "text": [
            "Batches: 100%|██████████| 98/98 [01:44<00:00,  1.07s/it]\n"
          ]
        },
        {
          "name": "stdout",
          "output_type": "stream",
          "text": [
            "Loss D: -9.2532, Loss G: 73.2043\n",
            "Epoch [24/20] "
          ]
        },
        {
          "name": "stderr",
          "output_type": "stream",
          "text": [
            "Batches: 100%|██████████| 98/98 [01:48<00:00,  1.10s/it]\n"
          ]
        },
        {
          "name": "stdout",
          "output_type": "stream",
          "text": [
            "Loss D: -11.6760, Loss G: 74.0952\n",
            "Epoch [25/20] "
          ]
        },
        {
          "name": "stderr",
          "output_type": "stream",
          "text": [
            "Batches: 100%|██████████| 98/98 [01:55<00:00,  1.18s/it]\n"
          ]
        },
        {
          "name": "stdout",
          "output_type": "stream",
          "text": [
            "Loss D: -8.9663, Loss G: 71.5057\n",
            "Epoch [26/20] "
          ]
        },
        {
          "name": "stderr",
          "output_type": "stream",
          "text": [
            "Batches: 100%|██████████| 98/98 [01:44<00:00,  1.07s/it]\n"
          ]
        },
        {
          "name": "stdout",
          "output_type": "stream",
          "text": [
            "Loss D: -9.3424, Loss G: 72.3037\n",
            "Epoch [27/20] "
          ]
        },
        {
          "name": "stderr",
          "output_type": "stream",
          "text": [
            "Batches: 100%|██████████| 98/98 [01:46<00:00,  1.08s/it]\n"
          ]
        },
        {
          "name": "stdout",
          "output_type": "stream",
          "text": [
            "Loss D: -8.5528, Loss G: 67.5661\n",
            "Epoch [28/20] "
          ]
        },
        {
          "name": "stderr",
          "output_type": "stream",
          "text": [
            "Batches: 100%|██████████| 98/98 [01:49<00:00,  1.12s/it]\n"
          ]
        },
        {
          "name": "stdout",
          "output_type": "stream",
          "text": [
            "Loss D: -8.8903, Loss G: 65.8960\n",
            "Epoch [29/20] "
          ]
        },
        {
          "name": "stderr",
          "output_type": "stream",
          "text": [
            "Batches: 100%|██████████| 98/98 [01:52<00:00,  1.15s/it]\n"
          ]
        },
        {
          "name": "stdout",
          "output_type": "stream",
          "text": [
            "Loss D: -8.7362, Loss G: 69.8204\n",
            "Epoch [30/20] "
          ]
        },
        {
          "name": "stderr",
          "output_type": "stream",
          "text": [
            "Batches: 100%|██████████| 98/98 [01:44<00:00,  1.07s/it]"
          ]
        },
        {
          "name": "stdout",
          "output_type": "stream",
          "text": [
            "Loss D: -8.4417, Loss G: 65.8123\n"
          ]
        },
        {
          "name": "stderr",
          "output_type": "stream",
          "text": [
            "\n"
          ]
        }
      ],
      "source": [
        "def create_dataloader(data_path, subset_size, batch_size, img_size, channels_img, class_label='real'):\n",
        "    data_transforms = transforms.Compose([\n",
        "        transforms.Resize(img_size),\n",
        "        transforms.ToTensor(),\n",
        "        transforms.Normalize([0.5] * channels_img, [0.5] * channels_img),\n",
        "    ])\n",
        "\n",
        "    dataset = datasets.ImageFolder(root=data_path, transform=data_transforms)\n",
        "    class_idx = dataset.class_to_idx[class_label]\n",
        "    class_indices = [i for i, label in enumerate(dataset.targets) if label == class_idx]\n",
        "    subset_indices = random.sample(class_indices, subset_size)\n",
        "    subset_dataset = Subset(dataset, subset_indices)\n",
        "    dataloader = DataLoader(subset_dataset, batch_size=batch_size, shuffle=True)\n",
        "    return dataloader\n",
        "\n",
        "train_loader = create_dataloader(\"real_vs_fake/real-vs-fake/train\", TRAIN_SUBSET_SIZE, BATCH_SIZE, IMAGE_SIZE, CHANNELS_IMG)\n",
        "\n",
        "# initialize gen and disc/critic\n",
        "gen = Generator(Z_DIM, CHANNELS_IMG, FEATURES_GEN).to(device)\n",
        "critic = Discriminator(CHANNELS_IMG, FEATURES_CRITIC).to(device)\n",
        "initialize_weights(gen)\n",
        "initialize_weights(critic)\n",
        "\n",
        "# initializate optimizer\n",
        "opt_gen = optim.Adam(gen.parameters(), lr=LEARNING_RATE, betas=(0.0, 0.9))\n",
        "opt_critic = optim.Adam(critic.parameters(), lr=LEARNING_RATE, betas=(0.0, 0.9))\n",
        "\n",
        "# For showing progress\n",
        "fixed_noise = torch.randn(1, Z_DIM, 1, 1).to(device)\n",
        "\n",
        "gen_losses = []\n",
        "critic_losses = []\n",
        "\n",
        "gen.train()\n",
        "critic.train()\n",
        "\n",
        "log_folder_name = f\"logs/{datetime.datetime.now().strftime('%Y%m%d-%H%M%S')}/\"\n",
        "os.makedirs(log_folder_name, exist_ok=True)\n",
        "for epoch in range(11,31, 1):\n",
        "    print(f\"Epoch [{epoch}/{NUM_EPOCHS}]\", end=\" \")\n",
        "    # Target labels not needed! <3 unsupervised\n",
        "    for batch_idx, (real, _) in enumerate(tqdm(train_loader, desc=\"Batches\")):\n",
        "        real = real.to(device)\n",
        "        cur_batch_size = real.shape[0]\n",
        "\n",
        "        # Train Critic: max E[critic(real)] - E[critic(fake)]\n",
        "        for _ in range(CRITIC_ITERATIONS):\n",
        "            noise = torch.randn(cur_batch_size, Z_DIM, 1, 1).to(device)\n",
        "            fake = gen(noise)\n",
        "            critic_real = critic(real).reshape(-1)\n",
        "            critic_fake = critic(fake).reshape(-1)\n",
        "            gp = gradient_penalty(critic, real, fake, device=device)\n",
        "            loss_critic = (-(torch.mean(critic_real) - torch.mean(critic_fake)) + LAMBDA_GP * gp)\n",
        "            critic.zero_grad()\n",
        "            loss_critic.backward(retain_graph=True)\n",
        "            opt_critic.step()\n",
        "\n",
        "        # Train Generator: max E[critic(gen_fake)] <-> min -E[critic(gen_fake)]\n",
        "        gen_fake = critic(fake).reshape(-1)\n",
        "        loss_gen = -torch.mean(gen_fake)\n",
        "        gen.zero_grad()\n",
        "        loss_gen.backward()\n",
        "        opt_gen.step()\n",
        "\n",
        "    gen_losses.append(loss_gen.item())\n",
        "    critic_losses.append(loss_critic.item())\n",
        "\n",
        "    print(f\"Loss D: {loss_critic:.4f}, Loss G: {loss_gen:.4f}\")\n",
        "\n",
        "    gen.eval()\n",
        "    critic.eval()\n",
        "\n",
        "    with torch.no_grad():\n",
        "        fake = gen(fixed_noise)\n",
        "        os.makedirs(log_folder_name + \"training\", exist_ok=True)\n",
        "        save_image(fake, log_folder_name + f\"training/fake_epoch_{epoch}.png\", normalize=True)\n",
        "\n",
        "    gen.train()\n",
        "    critic.train()"
      ]
    },
    {
      "cell_type": "code",
      "execution_count": null,
      "metadata": {
        "id": "I5cpXRv0_nEq"
      },
      "outputs": [],
      "source": [
        "# Function to convert images to GIF\n",
        "import os\n",
        "from PIL import Image\n",
        "def convert_images_to_gif(input_folder, output_gif_path):\n",
        "    images = []\n",
        "    for filename in os.listdir(input_folder):\n",
        "        if filename.endswith(('.png', '.jpg', '.jpeg')):\n",
        "            img_path = os.path.join(input_folder, filename)\n",
        "            img = Image.open(img_path)\n",
        "            images.append(img)\n",
        "\n",
        "    # Save images as GIF\n",
        "    images[0].save(output_gif_path, save_all=True, append_images=images[1:], duration=100, loop=1)\n",
        "\n",
        "input_folder = log_folder_name +\"training/\"\n",
        "output_gif_path = log_folder_name + \"training.gif\"\n",
        "\n",
        "convert_images_to_gif(input_folder, output_gif_path)"
      ]
    },
    {
      "cell_type": "code",
      "execution_count": null,
      "metadata": {
        "id": "JBV_9SXp_nEr",
        "outputId": "b0c46cbb-9d56-457a-94e3-047094445ad8"
      },
      "outputs": [
        {
          "data": {
            "image/png": "[encoded data removed]",
            "text/plain": [
              "<Figure size 1000x500 with 1 Axes>"
            ]
          },
          "metadata": {},
          "output_type": "display_data"
        }
      ],
      "source": [
        "import matplotlib.pyplot as plt\n",
        "plt.figure(figsize=(10, 5))\n",
        "plt.plot(gen_losses, label=\"Generator Loss\")\n",
        "plt.plot(critic_losses, label=\"Critic Training Loss\")\n",
        "plt.title(\"Generator and Critic Loss During Training\")\n",
        "plt.xlabel(\"Epoch\")\n",
        "plt.ylabel(\"Loss\")\n",
        "plt.legend()\n",
        "plt.savefig(log_folder_name + \"loss_curve_with_validation.png\")  # Save the loss plot\n",
        "plt.show()"
      ]
    },
    {
      "cell_type": "code",
      "execution_count": null,
      "metadata": {
        "id": "CHq0e1pY_nEr"
      },
      "outputs": [],
      "source": [
        "gen = Generator(Z_DIM, CHANNELS_IMG, FEATURES_GEN).to(device)\n",
        "gen.load_state_dict(torch.load(\"models/generator.pth\", weights_only=True))\n",
        "gen.eval()"
      ]
    },
    {
      "cell_type": "code",
      "execution_count": null,
      "metadata": {
        "id": "pov6Im2U_nEr",
        "outputId": "7142dd66-21d3-4926-cb2c-90cfb95f92a8"
      },
      "outputs": [
        {
          "data": {
            "text/plain": [
              "<matplotlib.image.AxesImage at 0x1d195d2e1a0>"
            ]
          },
          "execution_count": 64,
          "metadata": {},
          "output_type": "execute_result"
        },
        {
          "data": {
            "image/png": "[encoded data removed]",
            "text/plain": [
              "<Figure size 640x480 with 1 Axes>"
            ]
          },
          "metadata": {},
          "output_type": "display_data"
        }
      ],
      "source": [
        "imgs = gen(torch.randn(1, Z_DIM, 1, 1).to(device))\n",
        "imgs = (imgs * 0.5) + 0.5\n",
        "plt.imshow(imgs[0].cpu().detach().permute(1, 2, 0))"
      ]
    },
    {
      "cell_type": "code",
      "execution_count": null,
      "metadata": {
        "id": "Q0H_HAdg_nEr"
      },
      "outputs": [],
      "source": [
        "import os\n",
        "os.makedirs(\"models\", exist_ok=True)\n",
        "torch.save(gen.state_dict(), \"models/generator.pth\")\n",
        "torch.save(critic.state_dict(), \"models/critic.pth\")"
      ]
    },
    {
      "cell_type": "markdown",
      "metadata": {
        "id": "ahx07mWd_nEs"
      },
      "source": [
        "## Critic Re training"
      ]
    },
    {
      "cell_type": "code",
      "execution_count": 47,
      "metadata": {
        "colab": {
          "base_uri": "https://localhost:8080/"
        },
        "id": "G0ILTzZf_nEs",
        "outputId": "46dff745-e97a-48fc-a3c1-e993314ceb77"
      },
      "outputs": [
        {
          "name": "stdout",
          "output_type": "stream",
          "text": [
            "No. of training images:  25000\n",
            "No. of testing images:  5000\n",
            "No. of validation images:  5000\n"
          ]
        }
      ],
      "source": [
        "data_transforms = transforms.Compose([\n",
        "    transforms.Resize(IMAGE_SIZE),\n",
        "    transforms.ToTensor(),\n",
        "    transforms.Normalize([0.5] * CHANNELS_IMG, [0.5] * CHANNELS_IMG),\n",
        "])\n",
        "\n",
        "dataset = datasets.ImageFolder(root=\"real_vs_fake/real-vs-fake/train\", transform=data_transforms)\n",
        "class_idx = dataset.class_to_idx[\"real\"]\n",
        "indices = [i for i, label in enumerate(dataset.targets) if label==class_idx]\n",
        "subset_indices = random.sample(indices, 25000)\n",
        "subset_dataset = Subset(dataset, subset_indices)\n",
        "train_loader = DataLoader(subset_dataset, batch_size=BATCH_SIZE, shuffle=True, drop_last=True)\n",
        "print(\"No. of training images: \", len(subset_dataset))\n",
        "\n",
        "dataset = datasets.ImageFolder(root=\"real_vs_fake/real-vs-fake/test\", transform=data_transforms)\n",
        "class_idx = dataset.class_to_idx[\"real\"]\n",
        "indices = [i for i, label in enumerate(dataset.targets) if label==class_idx]\n",
        "subset_indices = random.sample(indices, 5000)\n",
        "subset_dataset = Subset(dataset, subset_indices)\n",
        "test_loader = DataLoader(subset_dataset, batch_size=5000, shuffle=False, drop_last=True)\n",
        "print(\"No. of testing images: \", len(subset_dataset))\n",
        "\n",
        "dataset = datasets.ImageFolder(root=\"real_vs_fake/real-vs-fake/valid\", transform=data_transforms)\n",
        "class_idx = dataset.class_to_idx[\"real\"]\n",
        "indices = [i for i, label in enumerate(dataset.targets) if label==class_idx]\n",
        "subset_indices = random.sample(indices, 5000)\n",
        "subset_dataset = Subset(dataset, subset_indices)\n",
        "valid_loader = DataLoader(subset_dataset, batch_size=5000, shuffle=False, drop_last=True)\n",
        "print(\"No. of validation images: \", len(subset_dataset))"
      ]
    },
    {
      "cell_type": "code",
      "execution_count": 48,
      "metadata": {
        "colab": {
          "base_uri": "https://localhost:8080/"
        },
        "collapsed": true,
        "id": "UFyJn5aQOFfD",
        "outputId": "e72586c8-8f78-474a-ee0d-c608ad5ebeab"
      },
      "outputs": [
        {
          "data": {
            "text/plain": [
              "Generator(\n",
              "  (net): Sequential(\n",
              "    (0): Sequential(\n",
              "      (0): ConvTranspose2d(100, 1024, kernel_size=(2, 2), stride=(1, 1), bias=False)\n",
              "      (1): BatchNorm2d(1024, eps=1e-05, momentum=0.1, affine=True, track_running_stats=True)\n",
              "      (2): ReLU()\n",
              "    )\n",
              "    (1): Sequential(\n",
              "      (0): ConvTranspose2d(1024, 512, kernel_size=(4, 4), stride=(2, 2), padding=(1, 1), bias=False)\n",
              "      (1): BatchNorm2d(512, eps=1e-05, momentum=0.1, affine=True, track_running_stats=True)\n",
              "      (2): ReLU()\n",
              "    )\n",
              "    (2): Sequential(\n",
              "      (0): ConvTranspose2d(512, 256, kernel_size=(4, 4), stride=(2, 2), padding=(1, 1), bias=False)\n",
              "      (1): BatchNorm2d(256, eps=1e-05, momentum=0.1, affine=True, track_running_stats=True)\n",
              "      (2): ReLU()\n",
              "    )\n",
              "    (3): Sequential(\n",
              "      (0): ConvTranspose2d(256, 128, kernel_size=(4, 4), stride=(2, 2), padding=(1, 1), bias=False)\n",
              "      (1): BatchNorm2d(128, eps=1e-05, momentum=0.1, affine=True, track_running_stats=True)\n",
              "      (2): ReLU()\n",
              "    )\n",
              "    (4): Sequential(\n",
              "      (0): ConvTranspose2d(128, 64, kernel_size=(4, 4), stride=(2, 2), padding=(1, 1), bias=False)\n",
              "      (1): BatchNorm2d(64, eps=1e-05, momentum=0.1, affine=True, track_running_stats=True)\n",
              "      (2): ReLU()\n",
              "    )\n",
              "    (5): ConvTranspose2d(64, 3, kernel_size=(4, 4), stride=(2, 2), padding=(1, 1))\n",
              "    (6): Tanh()\n",
              "  )\n",
              ")"
            ]
          },
          "execution_count": 48,
          "metadata": {},
          "output_type": "execute_result"
        }
      ],
      "source": [
        "gen = Generator(Z_DIM, CHANNELS_IMG, FEATURES_GEN)\n",
        "gen.to(device)\n",
        "gen.load_state_dict(torch.load(\"generator.pth\", weights_only=True))\n",
        "gen.eval()"
      ]
    },
    {
      "cell_type": "code",
      "execution_count": 49,
      "metadata": {
        "colab": {
          "base_uri": "https://localhost:8080/"
        },
        "id": "JR8C6VMP_nEs",
        "outputId": "88dfce6e-199e-4359-b3fa-b13c69b7472d"
      },
      "outputs": [
        {
          "name": "stdout",
          "output_type": "stream",
          "text": [
            "----------------------------------------------------------------\n",
            "        Layer (type)               Output Shape         Param #\n",
            "================================================================\n",
            "            Conv2d-1           [-1, 64, 32, 32]           3,136\n",
            "         LeakyReLU-2           [-1, 64, 32, 32]               0\n",
            "            Conv2d-3          [-1, 128, 16, 16]         131,072\n",
            "    InstanceNorm2d-4          [-1, 128, 16, 16]             256\n",
            "         LeakyReLU-5          [-1, 128, 16, 16]               0\n",
            "            Conv2d-6            [-1, 256, 8, 8]         524,288\n",
            "    InstanceNorm2d-7            [-1, 256, 8, 8]             512\n",
            "         LeakyReLU-8            [-1, 256, 8, 8]               0\n",
            "            Conv2d-9            [-1, 512, 4, 4]       2,097,152\n",
            "   InstanceNorm2d-10            [-1, 512, 4, 4]           1,024\n",
            "        LeakyReLU-11            [-1, 512, 4, 4]               0\n",
            "           Conv2d-12           [-1, 1024, 2, 2]       8,388,608\n",
            "   InstanceNorm2d-13           [-1, 1024, 2, 2]           2,048\n",
            "        LeakyReLU-14           [-1, 1024, 2, 2]               0\n",
            "           Conv2d-15              [-1, 1, 1, 1]           4,097\n",
            "          Flatten-16                    [-1, 1]               0\n",
            "          Sigmoid-17                    [-1, 1]               0\n",
            "================================================================\n",
            "Total params: 11,152,193\n",
            "Trainable params: 11,152,193\n",
            "Non-trainable params: 0\n",
            "----------------------------------------------------------------\n",
            "Input size (MB): 0.05\n",
            "Forward/backward pass size (MB): 2.41\n",
            "Params size (MB): 42.54\n",
            "Estimated Total Size (MB): 45.00\n",
            "----------------------------------------------------------------\n"
          ]
        }
      ],
      "source": [
        "critic = Discriminator(CHANNELS_IMG, FEATURES_CRITIC)\n",
        "critic.disc.add_module(\"7\",nn.Flatten())\n",
        "critic.disc.add_module(\"8\",nn.Sigmoid())\n",
        "critic.to(device)\n",
        "critic.load_state_dict(torch.load(\"critic.pth\", weights_only=True))\n",
        "summary(critic, ( 3, 64, 64))"
      ]
    },
    {
      "cell_type": "code",
      "execution_count": 50,
      "metadata": {
        "id": "eQGYsfYV_nEs"
      },
      "outputs": [],
      "source": [
        "optimizer = optim.Adam(critic.parameters(), lr=LEARNING_RATE, betas=(0.0, 0.9))\n",
        "criterion = nn.BCELoss()\n",
        "train_losses = []\n",
        "valid_losses = []\n",
        "fixed_valid_vector = torch.randn(5000, Z_DIM, 1, 1).to(device)\n",
        "epoch = 0\n",
        "least_loss = np.inf\n",
        "EPOCHS_CRITIC = 5"
      ]
    },
    {
      "cell_type": "code",
      "execution_count": 51,
      "metadata": {
        "colab": {
          "base_uri": "https://localhost:8080/"
        },
        "id": "BbSM_8yK_nEs",
        "outputId": "3dabccf3-3bae-4f1d-d747-2d974bb1cae7"
      },
      "outputs": [
        {
          "name": "stdout",
          "output_type": "stream",
          "text": [
            "\n",
            "EPOCH [0/10]  "
          ]
        },
        {
          "name": "stderr",
          "output_type": "stream",
          "text": [
            "100%|██████████| 97/97 [01:42<00:00,  1.06s/it]\n"
          ]
        },
        {
          "name": "stdout",
          "output_type": "stream",
          "text": [
            "Loss: 8.265512586868915 \tValidation Loss: 2.4075894355773926\tINFO:Lowest validation Model saved\n",
            "\n",
            "EPOCH [1/10]  "
          ]
        },
        {
          "name": "stderr",
          "output_type": "stream",
          "text": [
            "100%|██████████| 97/97 [01:36<00:00,  1.01it/s]\n"
          ]
        },
        {
          "name": "stdout",
          "output_type": "stream",
          "text": [
            "Loss: 1.8431945615208025 \tValidation Loss: 1.4747475385665894\tINFO:Lowest validation Model saved\n",
            "\n",
            "EPOCH [2/10]  "
          ]
        },
        {
          "name": "stderr",
          "output_type": "stream",
          "text": [
            "100%|██████████| 97/97 [01:36<00:00,  1.01it/s]\n"
          ]
        },
        {
          "name": "stdout",
          "output_type": "stream",
          "text": [
            "Loss: 1.1038756453499352 \tValidation Loss: 1.9257885217666626\t\n",
            "EPOCH [3/10]  "
          ]
        },
        {
          "name": "stderr",
          "output_type": "stream",
          "text": [
            "100%|██████████| 97/97 [01:35<00:00,  1.01it/s]\n"
          ]
        },
        {
          "name": "stdout",
          "output_type": "stream",
          "text": [
            "Loss: 0.8509512368551234 \tValidation Loss: 0.16020146012306213\tINFO:Lowest validation Model saved\n",
            "\n",
            "EPOCH [4/10]  "
          ]
        },
        {
          "name": "stderr",
          "output_type": "stream",
          "text": [
            "100%|██████████| 97/97 [01:36<00:00,  1.00it/s]\n"
          ]
        },
        {
          "name": "stdout",
          "output_type": "stream",
          "text": [
            "Loss: 0.7085613588389662 \tValidation Loss: 0.11170648038387299\tINFO:Lowest validation Model saved\n"
          ]
        }
      ],
      "source": [
        "for i in range(epoch, epoch + EPOCHS_CRITIC, 1):\n",
        "    print(f\"\\nEPOCH [{i}/10] \", end=\" \")\n",
        "    critic.train()\n",
        "    train_running_loss = 0.0\n",
        "    # Training\n",
        "    for real_images, real_labels in tqdm(train_loader, total=len(train_loader)):\n",
        "        # On real images\n",
        "        real_images, real_labels = real_images.to(device), real_labels.to(device).float()\n",
        "        optimizer.zero_grad()\n",
        "        outputs = critic(real_images).squeeze()  # Remove extra dimension from output\n",
        "        real_loss = criterion(outputs, real_labels)\n",
        "\n",
        "        # On generator images\n",
        "        fake_images = gen(torch.randn(BATCH_SIZE, Z_DIM, 1, 1).to(device)).to(device)\n",
        "        fake_labels = torch.zeros_like(real_labels).to(device).float()\n",
        "        fake_outputs = critic(fake_images).squeeze()\n",
        "        fake_loss = criterion(fake_outputs, fake_labels)\n",
        "\n",
        "        loss = real_loss + fake_loss\n",
        "        loss.backward()\n",
        "        optimizer.step()\n",
        "\n",
        "        train_running_loss += loss.item()\n",
        "    epoch_train_loss = train_running_loss / len(train_loader)\n",
        "    train_losses.append(epoch_train_loss)\n",
        "    print(f\"Loss: {epoch_train_loss} \", end=\"\\t\")\n",
        "\n",
        "    # Validation\n",
        "    critic.eval()\n",
        "    valid_running_loss = 0.0\n",
        "    with torch.no_grad():\n",
        "        for read_images, real_labels in valid_loader:\n",
        "\n",
        "            read_images, real_labels = read_images.to(device), real_labels.to(device).float()\n",
        "            real_outputs = critic(read_images).squeeze()  # Remove extra dimension from output\n",
        "            real_loss = criterion(real_outputs, real_labels.squeeze())\n",
        "\n",
        "            fake_images, fake_labels = gen(fixed_valid_vector).to(device), torch.zeros_like(real_labels).to(device).float()\n",
        "            fake_outputs = critic(fake_images).squeeze()\n",
        "            fake_loss = criterion(fake_outputs, fake_labels.squeeze())\n",
        "\n",
        "            loss = real_loss + fake_loss\n",
        "            valid_running_loss += loss.item()\n",
        "        epoch_valid_loss = valid_running_loss / len(valid_loader)\n",
        "    valid_losses.append(epoch_valid_loss)\n",
        "    print(f\"Validation Loss: {epoch_valid_loss}\",end=\"\\t\")\n",
        "\n",
        "    if epoch_valid_loss < least_loss:\n",
        "        least_loss = epoch_valid_loss\n",
        "        torch.save(deepcopy(critic.state_dict()), \"critic_retrained.pth\")\n",
        "        print(\"INFO:Lowest validation Model saved\")\n",
        "\n"
      ]
    },
    {
      "cell_type": "code",
      "execution_count": 52,
      "metadata": {
        "colab": {
          "base_uri": "https://localhost:8080/",
          "height": 487
        },
        "id": "yAUgVdRl_nEs",
        "outputId": "c90663fb-7c6d-49d1-9591-fe809a60a5f5"
      },
      "outputs": [
        {
          "data": {
            "image/png": "[encoded data removed]",
            "text/plain": [
              "<Figure size 1000x500 with 1 Axes>"
            ]
          },
          "metadata": {},
          "output_type": "display_data"
        }
      ],
      "source": [
        "plt.figure(figsize=(10, 5))\n",
        "plt.plot(train_losses, label=\"Training Loss\")\n",
        "plt.plot(valid_losses, label=\"Validation Loss\")\n",
        "plt.title(\"Critic Loss During re-training\")\n",
        "plt.xlabel(\"Epoch\")\n",
        "plt.ylabel(\"Loss\")\n",
        "plt.legend()\n",
        "plt.show()"
      ]
    },
    {
      "cell_type": "code",
      "execution_count": 53,
      "metadata": {
        "colab": {
          "base_uri": "https://localhost:8080/"
        },
        "id": "pR_u3ucaacGE",
        "outputId": "e875ffb0-9c08-488c-9ab6-4406ec33c951"
      },
      "outputs": [
        {
          "name": "stdout",
          "output_type": "stream",
          "text": [
            "Accuracy: 0.9774% Loss: 0.06956614553928375\n"
          ]
        }
      ],
      "source": [
        "critic.eval()\n",
        "correct = 0\n",
        "total = 0\n",
        "with torch.no_grad():\n",
        "  for images, labels in test_loader:\n",
        "    images, labels = images.to(device), labels.to(device).float()\n",
        "    outputs = critic(images).squeeze()\n",
        "\n",
        "    loss = criterion(outputs, labels)\n",
        "\n",
        "    predictions = (outputs >= 0.5).float()\n",
        "    correct += (predictions == labels).sum().item()\n",
        "    total += labels.size(0)\n",
        "\n",
        "# Calculate accuracy\n",
        "accuracy = correct / total\n",
        "print(f'Accuracy: {accuracy}% Loss: {loss}')"
      ]
    },
    {
      "cell_type": "markdown",
      "metadata": {},
      "source": [
        "## ~~Style gan benchmark~~"
      ]
    },
    {
      "cell_type": "code",
      "execution_count": 13,
      "metadata": {
        "id": "LUHqW7Z-mRxx"
      },
      "outputs": [
        {
          "name": "stdout",
          "output_type": "stream",
          "text": [
            "No. of testing images:  10000\n"
          ]
        }
      ],
      "source": [
        "data_transforms = transforms.Compose([\n",
        "    transforms.Resize(IMAGE_SIZE),\n",
        "    transforms.ToTensor(),\n",
        "    transforms.Normalize([0.5] * CHANNELS_IMG, [0.5] * CHANNELS_IMG),\n",
        "])\n",
        "\n",
        "dataset = datasets.ImageFolder(root=\"real_vs_fake/real-vs-fake/test\", transform=data_transforms)\n",
        "real_class_idx = dataset.class_to_idx[\"real\"]\n",
        "fake_class_idx = dataset.class_to_idx[\"fake\"]\n",
        "real_indices = [i for i, label in enumerate(dataset.targets) if label==real_class_idx]\n",
        "fake_indices = [i for i, label in enumerate(dataset.targets) if label==fake_class_idx]\n",
        "real_subset_indices = random.sample(real_indices, 5000)\n",
        "fake_subset_indices = random.sample(fake_indices, 5000)\n",
        "subset_indices = real_subset_indices + fake_subset_indices\n",
        "subset_dataset = Subset(dataset, subset_indices)\n",
        "test_loader = DataLoader(subset_dataset, batch_size=10000, shuffle=False, drop_last=True)\n",
        "print(\"No. of testing images: \", len(subset_dataset))"
      ]
    },
    {
      "cell_type": "code",
      "execution_count": 16,
      "metadata": {},
      "outputs": [
        {
          "name": "stdout",
          "output_type": "stream",
          "text": [
            "----------------------------------------------------------------\n",
            "        Layer (type)               Output Shape         Param #\n",
            "================================================================\n",
            "            Conv2d-1           [-1, 64, 32, 32]           3,136\n",
            "         LeakyReLU-2           [-1, 64, 32, 32]               0\n",
            "            Conv2d-3          [-1, 128, 16, 16]         131,072\n",
            "    InstanceNorm2d-4          [-1, 128, 16, 16]             256\n",
            "         LeakyReLU-5          [-1, 128, 16, 16]               0\n",
            "            Conv2d-6            [-1, 256, 8, 8]         524,288\n",
            "    InstanceNorm2d-7            [-1, 256, 8, 8]             512\n",
            "         LeakyReLU-8            [-1, 256, 8, 8]               0\n",
            "            Conv2d-9            [-1, 512, 4, 4]       2,097,152\n",
            "   InstanceNorm2d-10            [-1, 512, 4, 4]           1,024\n",
            "        LeakyReLU-11            [-1, 512, 4, 4]               0\n",
            "           Conv2d-12           [-1, 1024, 2, 2]       8,388,608\n",
            "   InstanceNorm2d-13           [-1, 1024, 2, 2]           2,048\n",
            "        LeakyReLU-14           [-1, 1024, 2, 2]               0\n",
            "           Conv2d-15              [-1, 1, 1, 1]           4,097\n",
            "          Flatten-16                    [-1, 1]               0\n",
            "          Sigmoid-17                    [-1, 1]               0\n",
            "================================================================\n",
            "Total params: 11,152,193\n",
            "Trainable params: 11,152,193\n",
            "Non-trainable params: 0\n",
            "----------------------------------------------------------------\n",
            "Input size (MB): 0.05\n",
            "Forward/backward pass size (MB): 2.41\n",
            "Params size (MB): 42.54\n",
            "Estimated Total Size (MB): 45.00\n",
            "----------------------------------------------------------------\n"
          ]
        }
      ],
      "source": [
        "critic = Discriminator(CHANNELS_IMG, FEATURES_CRITIC)\n",
        "critic.disc.add_module(\"7\",nn.Flatten())\n",
        "critic.disc.add_module(\"8\",nn.Sigmoid())\n",
        "critic.to(device)\n",
        "critic.load_state_dict(torch.load(\"models/critic_retrained.pth\", weights_only=True))\n",
        "summary(critic, ( 3, 64, 64))"
      ]
    },
    {
      "cell_type": "code",
      "execution_count": 18,
      "metadata": {},
      "outputs": [
        {
          "name": "stdout",
          "output_type": "stream",
          "text": [
            "Accuracy: 0.4951% Loss: 3.2170722484588623\n"
          ]
        }
      ],
      "source": [
        "criterion = nn.BCELoss()\n",
        "critic.eval()\n",
        "correct = 0\n",
        "total = 0\n",
        "with torch.no_grad():\n",
        "  for images, labels in test_loader:\n",
        "    images, labels = images.to(device), labels.to(device).float()\n",
        "    outputs = critic(images).squeeze()\n",
        "\n",
        "    loss = criterion(outputs, labels)\n",
        "\n",
        "    predictions = (outputs >= 0.5).float()\n",
        "    correct += (predictions == labels).sum().item()\n",
        "    total += labels.size(0)\n",
        "\n",
        "# Calculate accuracy\n",
        "accuracy = correct / total\n",
        "print(f'Accuracy: {accuracy}% Loss: {loss}')"
      ]
    }
  ],
  "metadata": {
    "accelerator": "GPU",
    "colab": {
      "gpuType": "T4",
      "provenance": []
    },
    "kernelspec": {
      "display_name": "env",
      "language": "python",
      "name": "python3"
    },
    "language_info": {
      "codemirror_mode": {
        "name": "ipython",
        "version": 3
      },
      "file_extension": ".py",
      "mimetype": "text/x-python",
      "name": "python",
      "nbconvert_exporter": "python",
      "pygments_lexer": "ipython3",
      "version": "3.10.5"
    }
  },
  "nbformat": 4,
  "nbformat_minor": 0
}
