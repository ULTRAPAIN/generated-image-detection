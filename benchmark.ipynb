{
  "cells": [
    {
      "cell_type": "markdown",
      "metadata": {},
      "source": [
        "# Benchmarking"
      ]
    },
    {
      "cell_type": "markdown",
      "metadata": {},
      "source": [
        "## Config"
      ]
    },
    {
      "cell_type": "code",
      "execution_count": 1,
      "metadata": {},
      "outputs": [],
      "source": [
        "# For COLAB\n",
        "# from google.colab import drive\n",
        "# drive.mount('/content/gdrive')\n",
        "\n",
        "# !pip install kaggle Pillow imageio matplotlib pandas torchsummary\n",
        "# !mkdir ~/.kaggle\n",
        "# !cp kaggle.json ~/.kaggle/\n",
        "# !chmod 600 ~/.kaggle/kaggle.json\n",
        "# ! kaggle datasets download xhlulu/140k-real-and-fake-faces\n",
        "# # ! unzip -q 140k-real-and-fake-faces.zip\n",
        "\n",
        "# import shutil\n",
        "# shutil.unpack_archive('140k-real-and-fake-faces.zip')"
      ]
    },
    {
      "cell_type": "code",
      "execution_count": 2,
      "metadata": {},
      "outputs": [],
      "source": [
        "import os\n",
        "import numpy as np\n",
        "import datetime\n",
        "from copy import deepcopy\n",
        "from tqdm import tqdm\n",
        "import random\n",
        "import matplotlib.pyplot as plt\n",
        "import torch\n",
        "import torch.nn as nn\n",
        "import torch.optim as optim\n",
        "from torch.utils.data import DataLoader, Subset\n",
        "import torchvision\n",
        "from torchvision.utils import save_image\n",
        "import torchvision.datasets as datasets\n",
        "import torchvision.transforms as transforms\n",
        "from torchvision import models\n",
        "from torchsummary import summary"
      ]
    },
    {
      "cell_type": "code",
      "execution_count": 3,
      "metadata": {},
      "outputs": [],
      "source": [
        "# Hyperparameters\n",
        "device = \"cuda\" if torch.cuda.is_available() else \"cpu\"\n",
        "BATCH_SIZE = 256\n",
        "TRAIN_SUBSET_SIZE = 25000\n",
        "LEARNING_RATE = 1e-4\n",
        "IMAGE_SIZE = 64\n",
        "CHANNELS_IMG = 3\n",
        "Z_DIM = 100\n",
        "FEATURES_CRITIC = 64\n",
        "FEATURES_GEN = 64\n",
        "CRITIC_ITERATIONS = 5\n",
        "LAMBDA_GP = 10"
      ]
    },
    {
      "cell_type": "markdown",
      "metadata": {},
      "source": [
        "## Data loading\n",
        "\n",
        "|Image type|Label|\n",
        "|-|-|\n",
        "|Real|1|\n",
        "|Fake|0|"
      ]
    },
    {
      "cell_type": "code",
      "execution_count": 4,
      "metadata": {},
      "outputs": [
        {
          "name": "stdout",
          "output_type": "stream",
          "text": [
            "No. of training images:  25000\n",
            "No. of testing images:  5000\n",
            "No. of validation images:  5000\n"
          ]
        }
      ],
      "source": [
        "data_transforms = transforms.Compose([\n",
        "    transforms.Resize(IMAGE_SIZE),\n",
        "    transforms.ToTensor(),\n",
        "    transforms.Normalize([0.5] * CHANNELS_IMG, [0.5] * CHANNELS_IMG),\n",
        "])\n",
        "\n",
        "dataset = datasets.ImageFolder(root=\"real_vs_fake/real-vs-fake/train\", transform=data_transforms)\n",
        "class_idx = dataset.class_to_idx[\"real\"]\n",
        "indices = [i for i, label in enumerate(dataset.targets) if label==class_idx]\n",
        "subset_indices = random.sample(indices, 25000)\n",
        "subset_dataset = Subset(dataset, subset_indices)\n",
        "train_loader = DataLoader(subset_dataset, batch_size=BATCH_SIZE, shuffle=True, drop_last=True)\n",
        "print(\"No. of training images: \", len(subset_dataset))\n",
        "\n",
        "dataset = datasets.ImageFolder(root=\"real_vs_fake/real-vs-fake/test\", transform=data_transforms)\n",
        "class_idx = dataset.class_to_idx[\"real\"]\n",
        "indices = [i for i, label in enumerate(dataset.targets) if label==class_idx]\n",
        "subset_indices = random.sample(indices, 5000)\n",
        "subset_dataset = Subset(dataset, subset_indices)\n",
        "test_loader = DataLoader(subset_dataset, batch_size=5000, shuffle=False, drop_last=True)\n",
        "print(\"No. of testing images: \", len(subset_dataset))\n",
        "\n",
        "dataset = datasets.ImageFolder(root=\"real_vs_fake/real-vs-fake/valid\", transform=data_transforms)\n",
        "class_idx = dataset.class_to_idx[\"real\"]\n",
        "indices = [i for i, label in enumerate(dataset.targets) if label==class_idx]\n",
        "subset_indices = random.sample(indices, 5000)\n",
        "subset_dataset = Subset(dataset, subset_indices)\n",
        "valid_loader = DataLoader(subset_dataset, batch_size=5000, shuffle=False, drop_last=True)\n",
        "print(\"No. of validation images: \", len(subset_dataset))"
      ]
    },
    {
      "cell_type": "markdown",
      "metadata": {},
      "source": [
        "### Generator"
      ]
    },
    {
      "cell_type": "code",
      "execution_count": 5,
      "metadata": {},
      "outputs": [
        {
          "name": "stdout",
          "output_type": "stream",
          "text": [
            "----------------------------------------------------------------\n",
            "        Layer (type)               Output Shape         Param #\n",
            "================================================================\n",
            "   ConvTranspose2d-1           [-1, 1024, 2, 2]         409,600\n",
            "       BatchNorm2d-2           [-1, 1024, 2, 2]           2,048\n",
            "              ReLU-3           [-1, 1024, 2, 2]               0\n",
            "   ConvTranspose2d-4            [-1, 512, 4, 4]       8,388,608\n",
            "       BatchNorm2d-5            [-1, 512, 4, 4]           1,024\n",
            "              ReLU-6            [-1, 512, 4, 4]               0\n",
            "   ConvTranspose2d-7            [-1, 256, 8, 8]       2,097,152\n",
            "       BatchNorm2d-8            [-1, 256, 8, 8]             512\n",
            "              ReLU-9            [-1, 256, 8, 8]               0\n",
            "  ConvTranspose2d-10          [-1, 128, 16, 16]         524,288\n",
            "      BatchNorm2d-11          [-1, 128, 16, 16]             256\n",
            "             ReLU-12          [-1, 128, 16, 16]               0\n",
            "  ConvTranspose2d-13           [-1, 64, 32, 32]         131,072\n",
            "      BatchNorm2d-14           [-1, 64, 32, 32]             128\n",
            "             ReLU-15           [-1, 64, 32, 32]               0\n",
            "  ConvTranspose2d-16            [-1, 3, 64, 64]           3,075\n",
            "             Tanh-17            [-1, 3, 64, 64]               0\n",
            "================================================================\n",
            "Total params: 11,557,763\n",
            "Trainable params: 11,557,763\n",
            "Non-trainable params: 0\n",
            "----------------------------------------------------------------\n",
            "Input size (MB): 0.00\n",
            "Forward/backward pass size (MB): 3.09\n",
            "Params size (MB): 44.09\n",
            "Estimated Total Size (MB): 47.18\n",
            "----------------------------------------------------------------\n"
          ]
        }
      ],
      "source": [
        "class Generator(nn.Module):\n",
        "    def __init__(self, channels_noise, channels_img, features_g):\n",
        "        super(Generator, self).__init__()\n",
        "        self.net = nn.Sequential(\n",
        "            # Input: N x channels_noise x 1 x 1\n",
        "            self._block(channels_noise, features_g * 16, 2, 1, 0),  # img: 2x2\n",
        "            self._block(features_g * 16, features_g * 8, 4, 2, 1),  # img: 4x4\n",
        "            self._block(features_g * 8, features_g * 4, 4, 2, 1),  # img: 8x8\n",
        "            self._block(features_g * 4, features_g * 2, 4, 2, 1),  # img: 16x16\n",
        "            self._block(features_g * 2, features_g, 4, 2, 1),  # img: 32x32\n",
        "            nn.ConvTranspose2d(\n",
        "                features_g, channels_img, kernel_size=4, stride=2, padding=1\n",
        "            ),\n",
        "            # Output: N x channels_img x 64 x 64\n",
        "            nn.Tanh(),\n",
        "        )\n",
        "\n",
        "    def _block(self, in_channels, out_channels, kernel_size, stride, padding):\n",
        "        return nn.Sequential(\n",
        "            nn.ConvTranspose2d(\n",
        "                in_channels,\n",
        "                out_channels,\n",
        "                kernel_size,\n",
        "                stride,\n",
        "                padding,\n",
        "                bias=False,\n",
        "            ),\n",
        "            nn.BatchNorm2d(out_channels),\n",
        "            nn.ReLU(),\n",
        "        )\n",
        "\n",
        "    def forward(self, x):\n",
        "        return self.net(x)\n",
        "\n",
        "gen = Generator(Z_DIM, CHANNELS_IMG, FEATURES_GEN)\n",
        "gen.to(device)\n",
        "gen.load_state_dict(torch.load(\"models/generator.pth\", weights_only=True))\n",
        "gen.eval()\n",
        "summary(gen, ( 100, 1, 1))"
      ]
    },
    {
      "cell_type": "markdown",
      "metadata": {},
      "source": [
        "## WGAN Critic model"
      ]
    },
    {
      "cell_type": "code",
      "execution_count": 16,
      "metadata": {},
      "outputs": [],
      "source": [
        "def initialize_weights(model):\n",
        "    # Initializes weights according to the DCGAN paper\n",
        "    for m in model.modules():\n",
        "        if isinstance(m, (nn.Conv2d, nn.ConvTranspose2d, nn.BatchNorm2d)):\n",
        "            nn.init.normal_(m.weight.data, 0.0, 0.02)"
      ]
    },
    {
      "cell_type": "code",
      "execution_count": 17,
      "metadata": {},
      "outputs": [
        {
          "name": "stdout",
          "output_type": "stream",
          "text": [
            "----------------------------------------------------------------\n",
            "        Layer (type)               Output Shape         Param #\n",
            "================================================================\n",
            "            Conv2d-1           [-1, 64, 32, 32]           3,136\n",
            "         LeakyReLU-2           [-1, 64, 32, 32]               0\n",
            "            Conv2d-3          [-1, 128, 16, 16]         131,072\n",
            "    InstanceNorm2d-4          [-1, 128, 16, 16]             256\n",
            "         LeakyReLU-5          [-1, 128, 16, 16]               0\n",
            "            Conv2d-6            [-1, 256, 8, 8]         524,288\n",
            "    InstanceNorm2d-7            [-1, 256, 8, 8]             512\n",
            "         LeakyReLU-8            [-1, 256, 8, 8]               0\n",
            "            Conv2d-9            [-1, 512, 4, 4]       2,097,152\n",
            "   InstanceNorm2d-10            [-1, 512, 4, 4]           1,024\n",
            "        LeakyReLU-11            [-1, 512, 4, 4]               0\n",
            "           Conv2d-12           [-1, 1024, 2, 2]       8,388,608\n",
            "   InstanceNorm2d-13           [-1, 1024, 2, 2]           2,048\n",
            "        LeakyReLU-14           [-1, 1024, 2, 2]               0\n",
            "           Conv2d-15              [-1, 1, 1, 1]           4,097\n",
            "          Flatten-16                    [-1, 1]               0\n",
            "          Sigmoid-17                    [-1, 1]               0\n",
            "================================================================\n",
            "Total params: 11,152,193\n",
            "Trainable params: 11,152,193\n",
            "Non-trainable params: 0\n",
            "----------------------------------------------------------------\n",
            "Input size (MB): 0.05\n",
            "Forward/backward pass size (MB): 2.41\n",
            "Params size (MB): 42.54\n",
            "Estimated Total Size (MB): 45.00\n",
            "----------------------------------------------------------------\n"
          ]
        }
      ],
      "source": [
        "class Discriminator(nn.Module):\n",
        "    def __init__(self, channels_img, features_d):\n",
        "        super(Discriminator, self).__init__()\n",
        "        self.disc = nn.Sequential(\n",
        "            # input: N x channels_img x 64 x 64\n",
        "            nn.Conv2d(\n",
        "                channels_img, features_d, kernel_size=4, stride=2, padding=1\n",
        "            ),\n",
        "            nn.LeakyReLU(0.2),\n",
        "            # _block(in_channels, out_channels, kernel_size, stride, padding)\n",
        "            self._block(features_d, features_d * 2, 4, 2, 1),\n",
        "            self._block(features_d * 2, features_d * 4, 4, 2, 1),\n",
        "            self._block(features_d * 4, features_d * 8, 4, 2, 1),\n",
        "            self._block(features_d * 8, features_d * 16, 4, 2, 1),\n",
        "            # After all _block img output is 4x4 (Conv2d below makes into 1x1)\n",
        "            nn.Conv2d(features_d * 16, 1, kernel_size=2, stride=1, padding=0),\n",
        "            nn.Flatten(),\n",
        "            nn.Sigmoid(),\n",
        "        )\n",
        "\n",
        "    def _block(self, in_channels, out_channels, kernel_size, stride, padding):\n",
        "        return nn.Sequential(\n",
        "            nn.Conv2d(\n",
        "                in_channels,\n",
        "                out_channels,\n",
        "                kernel_size,\n",
        "                stride,\n",
        "                padding,\n",
        "                bias=False,\n",
        "            ),\n",
        "            nn.InstanceNorm2d(out_channels, affine=True),\n",
        "            nn.LeakyReLU(0.2),\n",
        "        )\n",
        "\n",
        "    def forward(self, x):\n",
        "        return self.disc(x)\n",
        "\n",
        "critic = Discriminator(CHANNELS_IMG, FEATURES_CRITIC).to(device)\n",
        "initialize_weights(critic)\n",
        "summary(critic, ( 3, 64, 64))"
      ]
    },
    {
      "cell_type": "markdown",
      "metadata": {},
      "source": [
        "### Training"
      ]
    },
    {
      "cell_type": "code",
      "execution_count": 18,
      "metadata": {},
      "outputs": [],
      "source": [
        "optimizer = optim.Adam(critic.parameters(), lr=LEARNING_RATE, betas=(0.0, 0.9))\n",
        "criterion = nn.BCELoss()\n",
        "train_losses = []\n",
        "valid_losses = []\n",
        "fixed_valid_vector = torch.randn(5000, Z_DIM, 1, 1).to(device)\n",
        "epoch = 0\n",
        "least_loss = np.inf\n",
        "EPOCHS = 5"
      ]
    },
    {
      "cell_type": "code",
      "execution_count": 19,
      "metadata": {},
      "outputs": [
        {
          "name": "stdout",
          "output_type": "stream",
          "text": [
            "\n",
            "EPOCH [0/5]  "
          ]
        },
        {
          "name": "stderr",
          "output_type": "stream",
          "text": [
            "100%|██████████| 97/97 [02:55<00:00,  1.81s/it]\n"
          ]
        },
        {
          "name": "stdout",
          "output_type": "stream",
          "text": [
            "Loss: 1.3170929925957906 \tValidation Loss: 0.6770929098129272\tINFO:Lowest validation Model saved\n",
            "\n",
            "EPOCH [1/5]  "
          ]
        },
        {
          "name": "stderr",
          "output_type": "stream",
          "text": [
            "100%|██████████| 97/97 [03:06<00:00,  1.92s/it]\n"
          ]
        },
        {
          "name": "stdout",
          "output_type": "stream",
          "text": [
            "Loss: 0.47699147263138564 \tValidation Loss: 0.14086103439331055\tINFO:Lowest validation Model saved\n",
            "\n",
            "EPOCH [2/5]  "
          ]
        },
        {
          "name": "stderr",
          "output_type": "stream",
          "text": [
            "100%|██████████| 97/97 [00:58<00:00,  1.65it/s]\n"
          ]
        },
        {
          "name": "stdout",
          "output_type": "stream",
          "text": [
            "Loss: 0.1752864359349934 \tValidation Loss: 0.06069639325141907\tINFO:Lowest validation Model saved\n",
            "\n",
            "EPOCH [3/5]  "
          ]
        },
        {
          "name": "stderr",
          "output_type": "stream",
          "text": [
            "100%|██████████| 97/97 [00:56<00:00,  1.72it/s]\n"
          ]
        },
        {
          "name": "stdout",
          "output_type": "stream",
          "text": [
            "Loss: 0.09133036260867548 \tValidation Loss: 0.031174268573522568\tINFO:Lowest validation Model saved\n",
            "\n",
            "EPOCH [4/5]  "
          ]
        },
        {
          "name": "stderr",
          "output_type": "stream",
          "text": [
            "100%|██████████| 97/97 [00:56<00:00,  1.71it/s]\n"
          ]
        },
        {
          "name": "stdout",
          "output_type": "stream",
          "text": [
            "Loss: 0.05196908640329601 \tValidation Loss: 0.03050338663160801\tINFO:Lowest validation Model saved\n"
          ]
        }
      ],
      "source": [
        "for i in range(epoch, epoch + EPOCHS, 1):\n",
        "    print(f\"\\nEPOCH [{i}/{epoch + EPOCHS}] \", end=\" \")\n",
        "    critic.train()\n",
        "    train_running_loss = 0.0\n",
        "    # Training\n",
        "    for real_images, real_labels in tqdm(train_loader, total=len(train_loader)):\n",
        "        # On real images\n",
        "        real_images, real_labels = real_images.to(device), real_labels.to(device).float()\n",
        "        optimizer.zero_grad()\n",
        "        outputs = critic(real_images).squeeze()  # Remove extra dimension from output\n",
        "        real_loss = criterion(outputs, real_labels)\n",
        "\n",
        "        # On generator images\n",
        "        fake_images = gen(torch.randn(BATCH_SIZE, Z_DIM, 1, 1).to(device)).to(device)\n",
        "        fake_labels = torch.zeros_like(real_labels).to(device).float()\n",
        "        fake_outputs = critic(fake_images).squeeze()\n",
        "        fake_loss = criterion(fake_outputs, fake_labels)\n",
        "\n",
        "        loss = real_loss + fake_loss\n",
        "        loss.backward()\n",
        "        optimizer.step()\n",
        "\n",
        "        train_running_loss += loss.item()\n",
        "    epoch_train_loss = train_running_loss / len(train_loader)\n",
        "    train_losses.append(epoch_train_loss)\n",
        "    print(f\"Loss: {epoch_train_loss} \", end=\"\\t\")\n",
        "\n",
        "    # Validation\n",
        "    critic.eval()\n",
        "    valid_running_loss = 0.0\n",
        "    with torch.no_grad():\n",
        "        for read_images, real_labels in valid_loader:\n",
        "\n",
        "            read_images, real_labels = read_images.to(device), real_labels.to(device).float()\n",
        "            real_outputs = critic(read_images).squeeze()  # Remove extra dimension from output\n",
        "            real_loss = criterion(real_outputs, real_labels.squeeze())\n",
        "\n",
        "            fake_images, fake_labels = gen(fixed_valid_vector).to(device), torch.zeros_like(real_labels).to(device).float()\n",
        "            fake_outputs = critic(fake_images).squeeze()\n",
        "            fake_loss = criterion(fake_outputs, fake_labels.squeeze())\n",
        "\n",
        "            loss = real_loss + fake_loss\n",
        "            valid_running_loss += loss.item()\n",
        "        epoch_valid_loss = valid_running_loss / len(valid_loader)\n",
        "    valid_losses.append(epoch_valid_loss)\n",
        "    print(f\"Validation Loss: {epoch_valid_loss}\",end=\"\\t\")\n",
        "\n",
        "    if epoch_valid_loss < least_loss:\n",
        "        least_loss = epoch_valid_loss\n",
        "        torch.save(deepcopy(critic.state_dict()), \"models/benchmark_critic.pth\")\n",
        "        print(\"INFO:Lowest validation Model saved\")\n",
        "\n"
      ]
    },
    {
      "cell_type": "code",
      "execution_count": 25,
      "metadata": {},
      "outputs": [
        {
          "data": {
            "image/png": "[encoded data removed]",
            "text/plain": [
              "<Figure size 1000x500 with 1 Axes>"
            ]
          },
          "metadata": {},
          "output_type": "display_data"
        }
      ],
      "source": [
        "plt.figure(figsize=(10, 5))\n",
        "plt.plot(train_losses, label=\"Training Loss\")\n",
        "plt.plot(valid_losses, label=\"Validation Loss\")\n",
        "plt.title(\"Critic Loss During re-training\")\n",
        "plt.xlabel(\"Epoch\")\n",
        "plt.ylabel(\"Loss\")\n",
        "plt.legend()\n",
        "plt.show()"
      ]
    },
    {
      "cell_type": "markdown",
      "metadata": {},
      "source": [
        "### Testing"
      ]
    },
    {
      "cell_type": "code",
      "execution_count": 20,
      "metadata": {},
      "outputs": [
        {
          "name": "stdout",
          "output_type": "stream",
          "text": [
            "Accuracy: 0.9918% Loss: 0.02201417088508606\n"
          ]
        }
      ],
      "source": [
        "critic.eval()\n",
        "correct = 0\n",
        "total = 0\n",
        "with torch.no_grad():\n",
        "  for images, labels in test_loader:\n",
        "    images, labels = images.to(device), labels.to(device).float()\n",
        "    outputs = critic(images).squeeze()\n",
        "\n",
        "    loss = criterion(outputs, labels)\n",
        "\n",
        "    predictions = (outputs >= 0.5).float()\n",
        "    correct += (predictions == labels).sum().item()\n",
        "    total += labels.size(0)\n",
        "\n",
        "# Calculate accuracy\n",
        "accuracy = correct / total\n",
        "print(f'Accuracy: {accuracy}% Loss: {loss}')"
      ]
    },
    {
      "cell_type": "markdown",
      "metadata": {},
      "source": [
        "## Resnet18"
      ]
    },
    {
      "cell_type": "code",
      "execution_count": 9,
      "metadata": {},
      "outputs": [
        {
          "name": "stderr",
          "output_type": "stream",
          "text": [
            "c:\\Users\\sanya\\Documents\\AI image detection research\\generated-image-detection\\env\\lib\\site-packages\\torchvision\\models\\_utils.py:223: UserWarning: Arguments other than a weight enum or `None` for 'weights' are deprecated since 0.13 and may be removed in the future. The current behavior is equivalent to passing `weights=ResNet18_Weights.IMAGENET1K_V1`. You can also use `weights=ResNet18_Weights.DEFAULT` to get the most up-to-date weights.\n",
            "  warnings.warn(msg)\n"
          ]
        },
        {
          "name": "stdout",
          "output_type": "stream",
          "text": [
            "----------------------------------------------------------------\n",
            "        Layer (type)               Output Shape         Param #\n",
            "================================================================\n",
            "            Conv2d-1           [-1, 64, 32, 32]           9,408\n",
            "       BatchNorm2d-2           [-1, 64, 32, 32]             128\n",
            "              ReLU-3           [-1, 64, 32, 32]               0\n",
            "         MaxPool2d-4           [-1, 64, 16, 16]               0\n",
            "            Conv2d-5           [-1, 64, 16, 16]          36,864\n",
            "       BatchNorm2d-6           [-1, 64, 16, 16]             128\n",
            "              ReLU-7           [-1, 64, 16, 16]               0\n",
            "            Conv2d-8           [-1, 64, 16, 16]          36,864\n",
            "       BatchNorm2d-9           [-1, 64, 16, 16]             128\n",
            "             ReLU-10           [-1, 64, 16, 16]               0\n",
            "       BasicBlock-11           [-1, 64, 16, 16]               0\n",
            "           Conv2d-12           [-1, 64, 16, 16]          36,864\n",
            "      BatchNorm2d-13           [-1, 64, 16, 16]             128\n",
            "             ReLU-14           [-1, 64, 16, 16]               0\n",
            "           Conv2d-15           [-1, 64, 16, 16]          36,864\n",
            "      BatchNorm2d-16           [-1, 64, 16, 16]             128\n",
            "             ReLU-17           [-1, 64, 16, 16]               0\n",
            "       BasicBlock-18           [-1, 64, 16, 16]               0\n",
            "           Conv2d-19            [-1, 128, 8, 8]          73,728\n",
            "      BatchNorm2d-20            [-1, 128, 8, 8]             256\n",
            "             ReLU-21            [-1, 128, 8, 8]               0\n",
            "           Conv2d-22            [-1, 128, 8, 8]         147,456\n",
            "      BatchNorm2d-23            [-1, 128, 8, 8]             256\n",
            "           Conv2d-24            [-1, 128, 8, 8]           8,192\n",
            "      BatchNorm2d-25            [-1, 128, 8, 8]             256\n",
            "             ReLU-26            [-1, 128, 8, 8]               0\n",
            "       BasicBlock-27            [-1, 128, 8, 8]               0\n",
            "           Conv2d-28            [-1, 128, 8, 8]         147,456\n",
            "      BatchNorm2d-29            [-1, 128, 8, 8]             256\n",
            "             ReLU-30            [-1, 128, 8, 8]               0\n",
            "           Conv2d-31            [-1, 128, 8, 8]         147,456\n",
            "      BatchNorm2d-32            [-1, 128, 8, 8]             256\n",
            "             ReLU-33            [-1, 128, 8, 8]               0\n",
            "       BasicBlock-34            [-1, 128, 8, 8]               0\n",
            "           Conv2d-35            [-1, 256, 4, 4]         294,912\n",
            "      BatchNorm2d-36            [-1, 256, 4, 4]             512\n",
            "             ReLU-37            [-1, 256, 4, 4]               0\n",
            "           Conv2d-38            [-1, 256, 4, 4]         589,824\n",
            "      BatchNorm2d-39            [-1, 256, 4, 4]             512\n",
            "           Conv2d-40            [-1, 256, 4, 4]          32,768\n",
            "      BatchNorm2d-41            [-1, 256, 4, 4]             512\n",
            "             ReLU-42            [-1, 256, 4, 4]               0\n",
            "       BasicBlock-43            [-1, 256, 4, 4]               0\n",
            "           Conv2d-44            [-1, 256, 4, 4]         589,824\n",
            "      BatchNorm2d-45            [-1, 256, 4, 4]             512\n",
            "             ReLU-46            [-1, 256, 4, 4]               0\n",
            "           Conv2d-47            [-1, 256, 4, 4]         589,824\n",
            "      BatchNorm2d-48            [-1, 256, 4, 4]             512\n",
            "             ReLU-49            [-1, 256, 4, 4]               0\n",
            "       BasicBlock-50            [-1, 256, 4, 4]               0\n",
            "           Conv2d-51            [-1, 512, 2, 2]       1,179,648\n",
            "      BatchNorm2d-52            [-1, 512, 2, 2]           1,024\n",
            "             ReLU-53            [-1, 512, 2, 2]               0\n",
            "           Conv2d-54            [-1, 512, 2, 2]       2,359,296\n",
            "      BatchNorm2d-55            [-1, 512, 2, 2]           1,024\n",
            "           Conv2d-56            [-1, 512, 2, 2]         131,072\n",
            "      BatchNorm2d-57            [-1, 512, 2, 2]           1,024\n",
            "             ReLU-58            [-1, 512, 2, 2]               0\n",
            "       BasicBlock-59            [-1, 512, 2, 2]               0\n",
            "           Conv2d-60            [-1, 512, 2, 2]       2,359,296\n",
            "      BatchNorm2d-61            [-1, 512, 2, 2]           1,024\n",
            "             ReLU-62            [-1, 512, 2, 2]               0\n",
            "           Conv2d-63            [-1, 512, 2, 2]       2,359,296\n",
            "      BatchNorm2d-64            [-1, 512, 2, 2]           1,024\n",
            "             ReLU-65            [-1, 512, 2, 2]               0\n",
            "       BasicBlock-66            [-1, 512, 2, 2]               0\n",
            "AdaptiveAvgPool2d-67            [-1, 512, 1, 1]               0\n",
            "           Linear-68                    [-1, 1]             513\n",
            "          Sigmoid-69                    [-1, 1]               0\n",
            "================================================================\n",
            "Total params: 11,177,025\n",
            "Trainable params: 11,177,025\n",
            "Non-trainable params: 0\n",
            "----------------------------------------------------------------\n",
            "Input size (MB): 0.05\n",
            "Forward/backward pass size (MB): 5.13\n",
            "Params size (MB): 42.64\n",
            "Estimated Total Size (MB): 47.81\n",
            "----------------------------------------------------------------\n"
          ]
        }
      ],
      "source": [
        "import torch\n",
        "resnet18 = models.resnet18(pretrained=True)\n",
        "num_features = resnet18.fc.in_features\n",
        "resnet18.fc = nn.Sequential(\n",
        "    nn.Linear(num_features, 1),  # Output 1 value for binary classification\n",
        "    nn.Sigmoid()  # Apply sigmoid activation to get probabilities\n",
        ")\n",
        "resnet18.to(device)\n",
        "summary(resnet18, ( 3, 64, 64))"
      ]
    },
    {
      "cell_type": "markdown",
      "metadata": {},
      "source": [
        "### Training"
      ]
    },
    {
      "cell_type": "code",
      "execution_count": 10,
      "metadata": {},
      "outputs": [],
      "source": [
        "optimizer = optim.Adam(resnet18.parameters())\n",
        "criterion = nn.BCELoss()\n",
        "train_losses = []\n",
        "valid_losses = []\n",
        "fixed_valid_vector = torch.randn(5000, Z_DIM, 1, 1).to(device)\n",
        "epoch = 1\n",
        "least_loss = np.inf\n",
        "EPOCHS = 5"
      ]
    },
    {
      "cell_type": "code",
      "execution_count": 11,
      "metadata": {},
      "outputs": [
        {
          "name": "stdout",
          "output_type": "stream",
          "text": [
            "\n",
            "EPOCH [1/6]  "
          ]
        },
        {
          "name": "stderr",
          "output_type": "stream",
          "text": [
            "100%|██████████| 97/97 [03:10<00:00,  1.96s/it]\n"
          ]
        },
        {
          "name": "stdout",
          "output_type": "stream",
          "text": [
            "Loss: 1.0266542006091974 \tValidation Loss: 1.9326364994049072\tINFO:Lowest validation Model saved\n",
            "\n",
            "EPOCH [2/6]  "
          ]
        },
        {
          "name": "stderr",
          "output_type": "stream",
          "text": [
            "100%|██████████| 97/97 [00:53<00:00,  1.81it/s]\n"
          ]
        },
        {
          "name": "stdout",
          "output_type": "stream",
          "text": [
            "Loss: 0.5144053116901633 \tValidation Loss: 1.6031352281570435\tINFO:Lowest validation Model saved\n",
            "\n",
            "EPOCH [3/6]  "
          ]
        },
        {
          "name": "stderr",
          "output_type": "stream",
          "text": [
            "100%|██████████| 97/97 [00:51<00:00,  1.89it/s]\n"
          ]
        },
        {
          "name": "stdout",
          "output_type": "stream",
          "text": [
            "Loss: 0.08838024382124242 \tValidation Loss: 2.9870665073394775\t\n",
            "EPOCH [4/6]  "
          ]
        },
        {
          "name": "stderr",
          "output_type": "stream",
          "text": [
            "100%|██████████| 97/97 [00:50<00:00,  1.93it/s]\n"
          ]
        },
        {
          "name": "stdout",
          "output_type": "stream",
          "text": [
            "Loss: 0.008469351120869216 \tValidation Loss: 3.417116403579712\t\n",
            "EPOCH [5/6]  "
          ]
        },
        {
          "name": "stderr",
          "output_type": "stream",
          "text": [
            "100%|██████████| 97/97 [00:48<00:00,  2.02it/s]\n"
          ]
        },
        {
          "name": "stdout",
          "output_type": "stream",
          "text": [
            "Loss: 0.004711980045744285 \tValidation Loss: 3.736393451690674\t\n",
            "EPOCH [6/6]  "
          ]
        },
        {
          "name": "stderr",
          "output_type": "stream",
          "text": [
            "100%|██████████| 97/97 [00:47<00:00,  2.02it/s]\n"
          ]
        },
        {
          "name": "stdout",
          "output_type": "stream",
          "text": [
            "Loss: 0.00420698799797785 \tValidation Loss: 3.969351053237915\t"
          ]
        }
      ],
      "source": [
        "for i in range(epoch, epoch + EPOCHS + 1, 1):\n",
        "    print(f\"\\nEPOCH [{i}/{epoch + EPOCHS}] \", end=\" \")\n",
        "    resnet18.train()\n",
        "    train_running_loss = 0.0\n",
        "    # Training\n",
        "    for real_images, real_labels in tqdm(train_loader, total=len(train_loader)):\n",
        "        # On real images\n",
        "        real_images, real_labels = real_images.to(device), real_labels.to(device).float()\n",
        "        optimizer.zero_grad()\n",
        "        outputs = resnet18(real_images).squeeze()  # Remove extra dimension from output\n",
        "        real_loss = criterion(outputs, real_labels)\n",
        "\n",
        "        # On generator images\n",
        "        fake_images = gen(torch.randn(BATCH_SIZE, Z_DIM, 1, 1).to(device)).to(device)\n",
        "        fake_labels = torch.zeros_like(real_labels).to(device).float()\n",
        "        fake_outputs = resnet18(fake_images).squeeze()\n",
        "        fake_loss = criterion(fake_outputs, fake_labels)\n",
        "\n",
        "        loss = real_loss + fake_loss\n",
        "        loss.backward()\n",
        "        optimizer.step()\n",
        "\n",
        "        train_running_loss += loss.item()\n",
        "    epoch_train_loss = train_running_loss / len(train_loader)\n",
        "    train_losses.append(epoch_train_loss)\n",
        "    print(f\"Loss: {epoch_train_loss} \", end=\"\\t\")\n",
        "\n",
        "    # Validation\n",
        "    resnet18.eval()\n",
        "    valid_running_loss = 0.0\n",
        "    with torch.no_grad():\n",
        "        for read_images, real_labels in valid_loader:\n",
        "\n",
        "            read_images, real_labels = read_images.to(device), real_labels.to(device).float()\n",
        "            real_outputs = resnet18(read_images).squeeze()  # Remove extra dimension from output\n",
        "            real_loss = criterion(real_outputs, real_labels.squeeze())\n",
        "\n",
        "            fake_images, fake_labels = gen(fixed_valid_vector).to(device), torch.zeros_like(real_labels).to(device).float()\n",
        "            fake_outputs = resnet18(fake_images).squeeze()\n",
        "            fake_loss = criterion(fake_outputs, fake_labels.squeeze())\n",
        "\n",
        "            loss = real_loss + fake_loss\n",
        "            valid_running_loss += loss.item()\n",
        "        epoch_valid_loss = valid_running_loss / len(valid_loader)\n",
        "    valid_losses.append(epoch_valid_loss)\n",
        "    print(f\"Validation Loss: {epoch_valid_loss}\",end=\"\\t\")\n",
        "\n",
        "    if epoch_valid_loss < least_loss:\n",
        "        least_loss = epoch_valid_loss\n",
        "        torch.save(deepcopy(resnet18.state_dict()), \"models/benchmark_resnet18.pth\")\n",
        "        print(\"INFO:Lowest validation Model saved\")"
      ]
    },
    {
      "cell_type": "code",
      "execution_count": 12,
      "metadata": {},
      "outputs": [
        {
          "data": {
            "image/png": "[encoded data removed]",
            "text/plain": [
              "<Figure size 1000x500 with 1 Axes>"
            ]
          },
          "metadata": {},
          "output_type": "display_data"
        }
      ],
      "source": [
        "plt.figure(figsize=(10, 5))\n",
        "plt.plot(train_losses, label=\"Training Loss\")\n",
        "plt.plot(valid_losses, label=\"Validation Loss\")\n",
        "plt.title(\"Critic Loss During re-training\")\n",
        "plt.xlabel(\"Epoch\")\n",
        "plt.ylabel(\"Loss\")\n",
        "plt.legend()\n",
        "plt.show()"
      ]
    },
    {
      "cell_type": "markdown",
      "metadata": {},
      "source": [
        "### Testing"
      ]
    },
    {
      "cell_type": "code",
      "execution_count": 13,
      "metadata": {},
      "outputs": [
        {
          "name": "stdout",
          "output_type": "stream",
          "text": [
            "Accuracy: 0.9994% Loss: 0.04097770154476166\n"
          ]
        }
      ],
      "source": [
        "resnet18.eval()\n",
        "correct = 0\n",
        "total = 0\n",
        "with torch.no_grad():\n",
        "  for images, labels in test_loader:\n",
        "    images, labels = images.to(device), labels.to(device).float()\n",
        "    outputs = resnet18(images).squeeze()\n",
        "\n",
        "    loss = criterion(outputs, labels)\n",
        "\n",
        "    predictions = (outputs >= 0.5).float()\n",
        "    correct += (predictions == labels).sum().item()\n",
        "    total += labels.size(0)\n",
        "\n",
        "# Calculate accuracy\n",
        "accuracy = correct / total\n",
        "print(f'Accuracy: {accuracy}% Loss: {loss}')"
      ]
    },
    {
      "cell_type": "markdown",
      "metadata": {},
      "source": [
        "## Resnet 50"
      ]
    },
    {
      "cell_type": "code",
      "execution_count": 6,
      "metadata": {},
      "outputs": [
        {
          "name": "stderr",
          "output_type": "stream",
          "text": [
            "c:\\Users\\sanya\\Documents\\AI image detection research\\generated-image-detection\\env\\lib\\site-packages\\torchvision\\models\\_utils.py:208: UserWarning: The parameter 'pretrained' is deprecated since 0.13 and may be removed in the future, please use 'weights' instead.\n",
            "  warnings.warn(\n",
            "c:\\Users\\sanya\\Documents\\AI image detection research\\generated-image-detection\\env\\lib\\site-packages\\torchvision\\models\\_utils.py:223: UserWarning: Arguments other than a weight enum or `None` for 'weights' are deprecated since 0.13 and may be removed in the future. The current behavior is equivalent to passing `weights=ResNet50_Weights.IMAGENET1K_V1`. You can also use `weights=ResNet50_Weights.DEFAULT` to get the most up-to-date weights.\n",
            "  warnings.warn(msg)\n"
          ]
        },
        {
          "name": "stdout",
          "output_type": "stream",
          "text": [
            "----------------------------------------------------------------\n",
            "        Layer (type)               Output Shape         Param #\n",
            "================================================================\n",
            "            Conv2d-1           [-1, 64, 32, 32]           9,408\n",
            "       BatchNorm2d-2           [-1, 64, 32, 32]             128\n",
            "              ReLU-3           [-1, 64, 32, 32]               0\n",
            "         MaxPool2d-4           [-1, 64, 16, 16]               0\n",
            "            Conv2d-5           [-1, 64, 16, 16]           4,096\n",
            "       BatchNorm2d-6           [-1, 64, 16, 16]             128\n",
            "              ReLU-7           [-1, 64, 16, 16]               0\n",
            "            Conv2d-8           [-1, 64, 16, 16]          36,864\n",
            "       BatchNorm2d-9           [-1, 64, 16, 16]             128\n",
            "             ReLU-10           [-1, 64, 16, 16]               0\n",
            "           Conv2d-11          [-1, 256, 16, 16]          16,384\n",
            "      BatchNorm2d-12          [-1, 256, 16, 16]             512\n",
            "           Conv2d-13          [-1, 256, 16, 16]          16,384\n",
            "      BatchNorm2d-14          [-1, 256, 16, 16]             512\n",
            "             ReLU-15          [-1, 256, 16, 16]               0\n",
            "       Bottleneck-16          [-1, 256, 16, 16]               0\n",
            "           Conv2d-17           [-1, 64, 16, 16]          16,384\n",
            "      BatchNorm2d-18           [-1, 64, 16, 16]             128\n",
            "             ReLU-19           [-1, 64, 16, 16]               0\n",
            "           Conv2d-20           [-1, 64, 16, 16]          36,864\n",
            "      BatchNorm2d-21           [-1, 64, 16, 16]             128\n",
            "             ReLU-22           [-1, 64, 16, 16]               0\n",
            "           Conv2d-23          [-1, 256, 16, 16]          16,384\n",
            "      BatchNorm2d-24          [-1, 256, 16, 16]             512\n",
            "             ReLU-25          [-1, 256, 16, 16]               0\n",
            "       Bottleneck-26          [-1, 256, 16, 16]               0\n",
            "           Conv2d-27           [-1, 64, 16, 16]          16,384\n",
            "      BatchNorm2d-28           [-1, 64, 16, 16]             128\n",
            "             ReLU-29           [-1, 64, 16, 16]               0\n",
            "           Conv2d-30           [-1, 64, 16, 16]          36,864\n",
            "      BatchNorm2d-31           [-1, 64, 16, 16]             128\n",
            "             ReLU-32           [-1, 64, 16, 16]               0\n",
            "           Conv2d-33          [-1, 256, 16, 16]          16,384\n",
            "      BatchNorm2d-34          [-1, 256, 16, 16]             512\n",
            "             ReLU-35          [-1, 256, 16, 16]               0\n",
            "       Bottleneck-36          [-1, 256, 16, 16]               0\n",
            "           Conv2d-37          [-1, 128, 16, 16]          32,768\n",
            "      BatchNorm2d-38          [-1, 128, 16, 16]             256\n",
            "             ReLU-39          [-1, 128, 16, 16]               0\n",
            "           Conv2d-40            [-1, 128, 8, 8]         147,456\n",
            "      BatchNorm2d-41            [-1, 128, 8, 8]             256\n",
            "             ReLU-42            [-1, 128, 8, 8]               0\n",
            "           Conv2d-43            [-1, 512, 8, 8]          65,536\n",
            "      BatchNorm2d-44            [-1, 512, 8, 8]           1,024\n",
            "           Conv2d-45            [-1, 512, 8, 8]         131,072\n",
            "      BatchNorm2d-46            [-1, 512, 8, 8]           1,024\n",
            "             ReLU-47            [-1, 512, 8, 8]               0\n",
            "       Bottleneck-48            [-1, 512, 8, 8]               0\n",
            "           Conv2d-49            [-1, 128, 8, 8]          65,536\n",
            "      BatchNorm2d-50            [-1, 128, 8, 8]             256\n",
            "             ReLU-51            [-1, 128, 8, 8]               0\n",
            "           Conv2d-52            [-1, 128, 8, 8]         147,456\n",
            "      BatchNorm2d-53            [-1, 128, 8, 8]             256\n",
            "             ReLU-54            [-1, 128, 8, 8]               0\n",
            "           Conv2d-55            [-1, 512, 8, 8]          65,536\n",
            "      BatchNorm2d-56            [-1, 512, 8, 8]           1,024\n",
            "             ReLU-57            [-1, 512, 8, 8]               0\n",
            "       Bottleneck-58            [-1, 512, 8, 8]               0\n",
            "           Conv2d-59            [-1, 128, 8, 8]          65,536\n",
            "      BatchNorm2d-60            [-1, 128, 8, 8]             256\n",
            "             ReLU-61            [-1, 128, 8, 8]               0\n",
            "           Conv2d-62            [-1, 128, 8, 8]         147,456\n",
            "      BatchNorm2d-63            [-1, 128, 8, 8]             256\n",
            "             ReLU-64            [-1, 128, 8, 8]               0\n",
            "           Conv2d-65            [-1, 512, 8, 8]          65,536\n",
            "      BatchNorm2d-66            [-1, 512, 8, 8]           1,024\n",
            "             ReLU-67            [-1, 512, 8, 8]               0\n",
            "       Bottleneck-68            [-1, 512, 8, 8]               0\n",
            "           Conv2d-69            [-1, 128, 8, 8]          65,536\n",
            "      BatchNorm2d-70            [-1, 128, 8, 8]             256\n",
            "             ReLU-71            [-1, 128, 8, 8]               0\n",
            "           Conv2d-72            [-1, 128, 8, 8]         147,456\n",
            "      BatchNorm2d-73            [-1, 128, 8, 8]             256\n",
            "             ReLU-74            [-1, 128, 8, 8]               0\n",
            "           Conv2d-75            [-1, 512, 8, 8]          65,536\n",
            "      BatchNorm2d-76            [-1, 512, 8, 8]           1,024\n",
            "             ReLU-77            [-1, 512, 8, 8]               0\n",
            "       Bottleneck-78            [-1, 512, 8, 8]               0\n",
            "           Conv2d-79            [-1, 256, 8, 8]         131,072\n",
            "      BatchNorm2d-80            [-1, 256, 8, 8]             512\n",
            "             ReLU-81            [-1, 256, 8, 8]               0\n",
            "           Conv2d-82            [-1, 256, 4, 4]         589,824\n",
            "      BatchNorm2d-83            [-1, 256, 4, 4]             512\n",
            "             ReLU-84            [-1, 256, 4, 4]               0\n",
            "           Conv2d-85           [-1, 1024, 4, 4]         262,144\n",
            "      BatchNorm2d-86           [-1, 1024, 4, 4]           2,048\n",
            "           Conv2d-87           [-1, 1024, 4, 4]         524,288\n",
            "      BatchNorm2d-88           [-1, 1024, 4, 4]           2,048\n",
            "             ReLU-89           [-1, 1024, 4, 4]               0\n",
            "       Bottleneck-90           [-1, 1024, 4, 4]               0\n",
            "           Conv2d-91            [-1, 256, 4, 4]         262,144\n",
            "      BatchNorm2d-92            [-1, 256, 4, 4]             512\n",
            "             ReLU-93            [-1, 256, 4, 4]               0\n",
            "           Conv2d-94            [-1, 256, 4, 4]         589,824\n",
            "      BatchNorm2d-95            [-1, 256, 4, 4]             512\n",
            "             ReLU-96            [-1, 256, 4, 4]               0\n",
            "           Conv2d-97           [-1, 1024, 4, 4]         262,144\n",
            "      BatchNorm2d-98           [-1, 1024, 4, 4]           2,048\n",
            "             ReLU-99           [-1, 1024, 4, 4]               0\n",
            "      Bottleneck-100           [-1, 1024, 4, 4]               0\n",
            "          Conv2d-101            [-1, 256, 4, 4]         262,144\n",
            "     BatchNorm2d-102            [-1, 256, 4, 4]             512\n",
            "            ReLU-103            [-1, 256, 4, 4]               0\n",
            "          Conv2d-104            [-1, 256, 4, 4]         589,824\n",
            "     BatchNorm2d-105            [-1, 256, 4, 4]             512\n",
            "            ReLU-106            [-1, 256, 4, 4]               0\n",
            "          Conv2d-107           [-1, 1024, 4, 4]         262,144\n",
            "     BatchNorm2d-108           [-1, 1024, 4, 4]           2,048\n",
            "            ReLU-109           [-1, 1024, 4, 4]               0\n",
            "      Bottleneck-110           [-1, 1024, 4, 4]               0\n",
            "          Conv2d-111            [-1, 256, 4, 4]         262,144\n",
            "     BatchNorm2d-112            [-1, 256, 4, 4]             512\n",
            "            ReLU-113            [-1, 256, 4, 4]               0\n",
            "          Conv2d-114            [-1, 256, 4, 4]         589,824\n",
            "     BatchNorm2d-115            [-1, 256, 4, 4]             512\n",
            "            ReLU-116            [-1, 256, 4, 4]               0\n",
            "          Conv2d-117           [-1, 1024, 4, 4]         262,144\n",
            "     BatchNorm2d-118           [-1, 1024, 4, 4]           2,048\n",
            "            ReLU-119           [-1, 1024, 4, 4]               0\n",
            "      Bottleneck-120           [-1, 1024, 4, 4]               0\n",
            "          Conv2d-121            [-1, 256, 4, 4]         262,144\n",
            "     BatchNorm2d-122            [-1, 256, 4, 4]             512\n",
            "            ReLU-123            [-1, 256, 4, 4]               0\n",
            "          Conv2d-124            [-1, 256, 4, 4]         589,824\n",
            "     BatchNorm2d-125            [-1, 256, 4, 4]             512\n",
            "            ReLU-126            [-1, 256, 4, 4]               0\n",
            "          Conv2d-127           [-1, 1024, 4, 4]         262,144\n",
            "     BatchNorm2d-128           [-1, 1024, 4, 4]           2,048\n",
            "            ReLU-129           [-1, 1024, 4, 4]               0\n",
            "      Bottleneck-130           [-1, 1024, 4, 4]               0\n",
            "          Conv2d-131            [-1, 256, 4, 4]         262,144\n",
            "     BatchNorm2d-132            [-1, 256, 4, 4]             512\n",
            "            ReLU-133            [-1, 256, 4, 4]               0\n",
            "          Conv2d-134            [-1, 256, 4, 4]         589,824\n",
            "     BatchNorm2d-135            [-1, 256, 4, 4]             512\n",
            "            ReLU-136            [-1, 256, 4, 4]               0\n",
            "          Conv2d-137           [-1, 1024, 4, 4]         262,144\n",
            "     BatchNorm2d-138           [-1, 1024, 4, 4]           2,048\n",
            "            ReLU-139           [-1, 1024, 4, 4]               0\n",
            "      Bottleneck-140           [-1, 1024, 4, 4]               0\n",
            "          Conv2d-141            [-1, 512, 4, 4]         524,288\n",
            "     BatchNorm2d-142            [-1, 512, 4, 4]           1,024\n",
            "            ReLU-143            [-1, 512, 4, 4]               0\n",
            "          Conv2d-144            [-1, 512, 2, 2]       2,359,296\n",
            "     BatchNorm2d-145            [-1, 512, 2, 2]           1,024\n",
            "            ReLU-146            [-1, 512, 2, 2]               0\n",
            "          Conv2d-147           [-1, 2048, 2, 2]       1,048,576\n",
            "     BatchNorm2d-148           [-1, 2048, 2, 2]           4,096\n",
            "          Conv2d-149           [-1, 2048, 2, 2]       2,097,152\n",
            "     BatchNorm2d-150           [-1, 2048, 2, 2]           4,096\n",
            "            ReLU-151           [-1, 2048, 2, 2]               0\n",
            "      Bottleneck-152           [-1, 2048, 2, 2]               0\n",
            "          Conv2d-153            [-1, 512, 2, 2]       1,048,576\n",
            "     BatchNorm2d-154            [-1, 512, 2, 2]           1,024\n",
            "            ReLU-155            [-1, 512, 2, 2]               0\n",
            "          Conv2d-156            [-1, 512, 2, 2]       2,359,296\n",
            "     BatchNorm2d-157            [-1, 512, 2, 2]           1,024\n",
            "            ReLU-158            [-1, 512, 2, 2]               0\n",
            "          Conv2d-159           [-1, 2048, 2, 2]       1,048,576\n",
            "     BatchNorm2d-160           [-1, 2048, 2, 2]           4,096\n",
            "            ReLU-161           [-1, 2048, 2, 2]               0\n",
            "      Bottleneck-162           [-1, 2048, 2, 2]               0\n",
            "          Conv2d-163            [-1, 512, 2, 2]       1,048,576\n",
            "     BatchNorm2d-164            [-1, 512, 2, 2]           1,024\n",
            "            ReLU-165            [-1, 512, 2, 2]               0\n",
            "          Conv2d-166            [-1, 512, 2, 2]       2,359,296\n",
            "     BatchNorm2d-167            [-1, 512, 2, 2]           1,024\n",
            "            ReLU-168            [-1, 512, 2, 2]               0\n",
            "          Conv2d-169           [-1, 2048, 2, 2]       1,048,576\n",
            "     BatchNorm2d-170           [-1, 2048, 2, 2]           4,096\n",
            "            ReLU-171           [-1, 2048, 2, 2]               0\n",
            "      Bottleneck-172           [-1, 2048, 2, 2]               0\n",
            "AdaptiveAvgPool2d-173           [-1, 2048, 1, 1]               0\n",
            "          Linear-174                    [-1, 1]           2,049\n",
            "         Sigmoid-175                    [-1, 1]               0\n",
            "================================================================\n",
            "Total params: 23,510,081\n",
            "Trainable params: 23,510,081\n",
            "Non-trainable params: 0\n",
            "----------------------------------------------------------------\n",
            "Input size (MB): 0.05\n",
            "Forward/backward pass size (MB): 23.41\n",
            "Params size (MB): 89.68\n",
            "Estimated Total Size (MB): 113.14\n",
            "----------------------------------------------------------------\n"
          ]
        }
      ],
      "source": [
        "import torch\n",
        "resnet50 = models.resnet50(pretrained=True)\n",
        "num_features = resnet50.fc.in_features\n",
        "resnet50.fc = nn.Sequential(\n",
        "    nn.Linear(num_features, 1),  # Output 1 value for binary classification\n",
        "    nn.Sigmoid()  # Apply sigmoid activation to get probabilities\n",
        ")\n",
        "resnet50.to(device)\n",
        "summary(resnet50, ( 3, 64, 64))"
      ]
    },
    {
      "cell_type": "markdown",
      "metadata": {},
      "source": [
        "### Training"
      ]
    },
    {
      "cell_type": "code",
      "execution_count": 7,
      "metadata": {},
      "outputs": [],
      "source": [
        "optimizer = optim.Adam(resnet50.parameters())\n",
        "criterion = nn.BCELoss()\n",
        "train_losses = []\n",
        "valid_losses = []\n",
        "fixed_valid_vector = torch.randn(5000, Z_DIM, 1, 1).to(device)\n",
        "epoch = 1\n",
        "least_loss = np.inf\n",
        "EPOCHS = 5"
      ]
    },
    {
      "cell_type": "code",
      "execution_count": 8,
      "metadata": {},
      "outputs": [
        {
          "name": "stdout",
          "output_type": "stream",
          "text": [
            "\n",
            "EPOCH [1/5]  "
          ]
        },
        {
          "name": "stderr",
          "output_type": "stream",
          "text": [
            "100%|██████████| 97/97 [16:24<00:00, 10.15s/it]\n"
          ]
        },
        {
          "name": "stdout",
          "output_type": "stream",
          "text": [
            "Loss: 0.6100373691447156 \tValidation Loss: 1.3623573780059814\tINFO:Lowest validation Model saved\n",
            "\n",
            "EPOCH [2/5]  "
          ]
        },
        {
          "name": "stderr",
          "output_type": "stream",
          "text": [
            "100%|██████████| 97/97 [17:46<00:00, 10.99s/it]\n"
          ]
        },
        {
          "name": "stdout",
          "output_type": "stream",
          "text": [
            "Loss: 0.0009144334159743463 \tValidation Loss: 1.3835196495056152\t\n",
            "EPOCH [3/5]  "
          ]
        },
        {
          "name": "stderr",
          "output_type": "stream",
          "text": [
            "100%|██████████| 97/97 [15:27<00:00,  9.56s/it]\n"
          ]
        },
        {
          "name": "stdout",
          "output_type": "stream",
          "text": [
            "Loss: 0.0004074124315724775 \tValidation Loss: 1.3835042715072632\t\n",
            "EPOCH [4/5]  "
          ]
        },
        {
          "name": "stderr",
          "output_type": "stream",
          "text": [
            "100%|██████████| 97/97 [13:40<00:00,  8.46s/it]\n"
          ]
        },
        {
          "name": "stdout",
          "output_type": "stream",
          "text": [
            "Loss: 0.00025392113659727705 \tValidation Loss: 1.3666341304779053\t\n",
            "EPOCH [5/5]  "
          ]
        },
        {
          "name": "stderr",
          "output_type": "stream",
          "text": [
            "100%|██████████| 97/97 [13:19<00:00,  8.25s/it]\n"
          ]
        },
        {
          "name": "stdout",
          "output_type": "stream",
          "text": [
            "Loss: 0.0001792473611709921 \tValidation Loss: 1.379894733428955\t\n",
            "EPOCH [6/5]  "
          ]
        },
        {
          "name": "stderr",
          "output_type": "stream",
          "text": [
            "100%|██████████| 97/97 [14:45<00:00,  9.13s/it]\n"
          ]
        },
        {
          "name": "stdout",
          "output_type": "stream",
          "text": [
            "Loss: 0.00013386617224428265 \tValidation Loss: 1.3671728372573853\t"
          ]
        },
        {
          "data": {
            "image/png": "[encoded data removed]",
            "text/plain": [
              "<Figure size 1000x500 with 1 Axes>"
            ]
          },
          "metadata": {},
          "output_type": "display_data"
        }
      ],
      "source": [
        "for i in range(epoch, epoch + EPOCHS + 1, 1):\n",
        "    print(f\"\\nEPOCH [{i}/{EPOCHS}] \", end=\" \")\n",
        "    resnet50.train()\n",
        "    train_running_loss = 0.0\n",
        "    # Training\n",
        "    for real_images, real_labels in tqdm(train_loader, total=len(train_loader)):\n",
        "        # On real images\n",
        "        real_images, real_labels = real_images.to(device), real_labels.to(device).float()\n",
        "        optimizer.zero_grad()\n",
        "        outputs = resnet50(real_images).squeeze()  # Remove extra dimension from output\n",
        "        real_loss = criterion(outputs, real_labels)\n",
        "\n",
        "        # On generator images\n",
        "        fake_images = gen(torch.randn(BATCH_SIZE, Z_DIM, 1, 1).to(device)).to(device)\n",
        "        fake_labels = torch.zeros_like(real_labels).to(device).float()\n",
        "        fake_outputs = resnet50(fake_images).squeeze()\n",
        "        fake_loss = criterion(fake_outputs, fake_labels)\n",
        "\n",
        "        loss = real_loss + fake_loss\n",
        "        loss.backward()\n",
        "        optimizer.step()\n",
        "\n",
        "        train_running_loss += loss.item()\n",
        "    epoch_train_loss = train_running_loss / len(train_loader)\n",
        "    train_losses.append(epoch_train_loss)\n",
        "    print(f\"Loss: {epoch_train_loss} \", end=\"\\t\")\n",
        "\n",
        "    # Validation\n",
        "    resnet50.eval()\n",
        "    valid_running_loss = 0.0\n",
        "    with torch.no_grad():\n",
        "        for read_images, real_labels in valid_loader:\n",
        "\n",
        "            read_images, real_labels = read_images.to(device), real_labels.to(device).float()\n",
        "            real_outputs = resnet50(read_images).squeeze()  # Remove extra dimension from output\n",
        "            real_loss = criterion(real_outputs, real_labels.squeeze())\n",
        "\n",
        "            fake_images, fake_labels = gen(fixed_valid_vector).to(device), torch.zeros_like(real_labels).to(device).float()\n",
        "            fake_outputs = resnet50(fake_images).squeeze()\n",
        "            fake_loss = criterion(fake_outputs, fake_labels.squeeze())\n",
        "\n",
        "            loss = real_loss + fake_loss\n",
        "            valid_running_loss += loss.item()\n",
        "        epoch_valid_loss = valid_running_loss / len(valid_loader)\n",
        "    valid_losses.append(epoch_valid_loss)\n",
        "    print(f\"Validation Loss: {epoch_valid_loss}\",end=\"\\t\")\n",
        "\n",
        "    if epoch_valid_loss < least_loss:\n",
        "        least_loss = epoch_valid_loss\n",
        "        torch.save(deepcopy(resnet50.state_dict()), \"models/benchmark_resnet50.pth\")\n",
        "        print(\"INFO:Lowest validation Model saved\")\n",
        "\n",
        "plt.figure(figsize=(10, 5))\n",
        "plt.plot(train_losses, label=\"Training Loss\")\n",
        "plt.plot(valid_losses, label=\"Validation Loss\")\n",
        "plt.title(\"Critic Loss During re-training\")\n",
        "plt.xlabel(\"Epoch\")\n",
        "plt.ylabel(\"Loss\")\n",
        "plt.legend()\n",
        "plt.show()"
      ]
    },
    {
      "cell_type": "markdown",
      "metadata": {},
      "source": [
        "### Testing"
      ]
    },
    {
      "cell_type": "code",
      "execution_count": 10,
      "metadata": {},
      "outputs": [
        {
          "name": "stdout",
          "output_type": "stream",
          "text": [
            "Accuracy: 0.9988 Loss: 0.48318806290626526\n"
          ]
        }
      ],
      "source": [
        "resnet50.eval()\n",
        "correct = 0\n",
        "total = 0\n",
        "with torch.no_grad():\n",
        "  for images, labels in test_loader:\n",
        "    images, labels = images.to(device), labels.to(device).float()\n",
        "    outputs = resnet50(images).squeeze()\n",
        "\n",
        "    loss = criterion(outputs, labels)\n",
        "\n",
        "    predictions = (outputs >= 0.5).float()\n",
        "    correct += (predictions == labels).sum().item()\n",
        "    total += labels.size(0)\n",
        "\n",
        "# Calculate accuracy\n",
        "accuracy = correct / total\n",
        "print(f'Accuracy: {accuracy} Loss: {loss}')"
      ]
    },
    {
      "cell_type": "code",
      "execution_count": null,
      "metadata": {},
      "outputs": [],
      "source": []
    }
  ],
  "metadata": {
    "accelerator": "GPU",
    "colab": {
      "gpuType": "T4",
      "provenance": []
    },
    "kernelspec": {
      "display_name": "env",
      "language": "python",
      "name": "python3"
    },
    "language_info": {
      "codemirror_mode": {
        "name": "ipython",
        "version": 3
      },
      "file_extension": ".py",
      "mimetype": "text/x-python",
      "name": "python",
      "nbconvert_exporter": "python",
      "pygments_lexer": "ipython3",
      "version": "3.10.5"
    }
  },
  "nbformat": 4,
  "nbformat_minor": 0
}
