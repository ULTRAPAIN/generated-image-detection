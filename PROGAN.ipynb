{
  "cells": [
    {
      "cell_type": "markdown",
      "metadata": {
        "id": "pmileJzy3wkJ"
      },
      "source": [
        "# PRO GAN"
      ]
    },
    {
      "cell_type": "code",
      "execution_count": 1,
      "metadata": {
        "colab": {
          "base_uri": "https://localhost:8080/"
        },
        "id": "rMrNNlqd3wkJ",
        "outputId": "2ec5855a-23a5-457f-d0a2-ac7b4ac870d5"
      },
      "outputs": [],
      "source": [
        "# !pip install -q kaggle\n",
        "# !mkdir ~/.kaggle\n",
        "# !cp /teamspace/uploads/kaggle.json ~/.kaggle/\n",
        "# !chmod 600 ~/.kaggle/kaggle.json\n",
        "# ! kaggle datasets download xhlulu/140k-real-and-fake-faces\n",
        "\n",
        "# import shutil\n",
        "# shutil.unpack_archive('140k-real-and-fake-faces.zip')"
      ]
    },
    {
      "cell_type": "code",
      "execution_count": 2,
      "metadata": {
        "id": "JD9qbtwP3wkK"
      },
      "outputs": [
        {
          "data": {
            "text/plain": [
              "<torch._C.Generator at 0x1fea5281fd0>"
            ]
          },
          "execution_count": 2,
          "metadata": {},
          "output_type": "execute_result"
        }
      ],
      "source": [
        "import torch\n",
        "import torch.nn as nn\n",
        "import torch.nn.functional as F\n",
        "import torch.optim as optim\n",
        "from torch.utils.data import DataLoader, Subset\n",
        "from torch.utils.tensorboard import SummaryWriter\n",
        "import torchvision\n",
        "from torchvision import datasets, transforms\n",
        "from torchvision.utils import save_image, make_grid\n",
        "from tqdm import tqdm\n",
        "from math import log2\n",
        "from scipy.stats import truncnorm\n",
        "import random\n",
        "import numpy as np\n",
        "import os\n",
        "import datetime\n",
        "from PIL import Image\n",
        "torch.manual_seed(69)"
      ]
    },
    {
      "cell_type": "markdown",
      "metadata": {
        "id": "F6Dp74_x3wkK"
      },
      "source": [
        "## Config"
      ]
    },
    {
      "cell_type": "code",
      "execution_count": 3,
      "metadata": {
        "id": "YPwN1hnA3wkL"
      },
      "outputs": [],
      "source": [
        "os.makedirs(\"models\", exist_ok=True)\n",
        "class Config:\n",
        "    START_TRAIN_AT_IMG_SIZE = 4\n",
        "    DATASET = 'real_vs_fake/real-vs-fake/train'\n",
        "    CHECKPOINT_GEN = \"models/pro_generator_128.pth\"\n",
        "    CHECKPOINT_CRITIC = \"models/pro_critic_128.pth\"\n",
        "    DEVICE = torch.device(\"cuda\" if torch.cuda.is_available() else \"cpu\")\n",
        "    SAVE_MODEL = True\n",
        "    LOAD_MODEL = False\n",
        "    LEARNING_RATE = 1e-3\n",
        "    BATCH_SIZES = [256, 128, 64, 32, 16, 8]\n",
        "    FACTORS = [1, 1/2, 1/4, 1/8, 1/16, 1/32]\n",
        "    CHANNELS_IMG = 3\n",
        "    Z_DIM = 100\n",
        "    IN_CHANNELS = 512\n",
        "    CRITIC_ITERATIONS = 1\n",
        "    LAMBDA_GP = 10\n",
        "    PROGRESSIVE_EPOCHS = [30] * len(BATCH_SIZES)\n",
        "    FIXED_NOISE = torch.randn(8, Z_DIM, 1, 1).to(DEVICE)\n",
        "    NUM_WORKERS = 4\n",
        "    TRAIN_SUBSET_SIZE = 25000\n",
        "\n",
        "config = Config()"
      ]
    },
    {
      "cell_type": "markdown",
      "metadata": {
        "id": "XEcUzRbu3wkL"
      },
      "source": [
        "## Model"
      ]
    },
    {
      "cell_type": "code",
      "execution_count": 7,
      "metadata": {
        "colab": {
          "base_uri": "https://localhost:8080/"
        },
        "id": "et5ozotP3wkL",
        "outputId": "e5885523-be96-4ac3-eab4-6ab0f763037a"
      },
      "outputs": [],
      "source": [
        "class WSConv2d(nn.Module):\n",
        "    \"\"\"\n",
        "    Weight scaled Conv2d (Equalized Learning Rate)\n",
        "    Note that input is multiplied rather than changing weights\n",
        "    this will have the same result.\n",
        "\n",
        "    Inspired and looked at:\n",
        "    https://github.com/nvnbny/progressive_growing_of_gans/blob/master/modelUtils.py\n",
        "    \"\"\"\n",
        "\n",
        "    def __init__(\n",
        "        self, in_channels, out_channels, kernel_size=3, stride=1, padding=1, gain=2\n",
        "    ):\n",
        "        super(WSConv2d, self).__init__()\n",
        "        self.conv = nn.Conv2d(in_channels, out_channels, kernel_size, stride, padding)\n",
        "        self.scale = (gain / (in_channels * (kernel_size ** 2))) ** 0.5\n",
        "        self.bias = self.conv.bias\n",
        "        self.conv.bias = None\n",
        "\n",
        "        # initialize conv layer\n",
        "        nn.init.normal_(self.conv.weight)\n",
        "        nn.init.zeros_(self.bias)\n",
        "\n",
        "    def forward(self, x):\n",
        "        return self.conv(x * self.scale) + self.bias.view(1, self.bias.shape[0], 1, 1)\n",
        "\n",
        "\n",
        "class PixelNorm(nn.Module):\n",
        "    def __init__(self):\n",
        "        super(PixelNorm, self).__init__()\n",
        "        self.epsilon = 1e-8\n",
        "\n",
        "    def forward(self, x):\n",
        "        return x / torch.sqrt(torch.mean(x ** 2, dim=1, keepdim=True) + self.epsilon)\n",
        "\n",
        "\n",
        "class ConvBlock(nn.Module):\n",
        "    def __init__(self, in_channels, out_channels, use_pixelnorm=True):\n",
        "        super(ConvBlock, self).__init__()\n",
        "        self.use_pn = use_pixelnorm\n",
        "        self.conv1 = WSConv2d(in_channels, out_channels)\n",
        "        self.conv2 = WSConv2d(out_channels, out_channels)\n",
        "        self.leaky = nn.LeakyReLU(0.2)\n",
        "        self.pn = PixelNorm()\n",
        "\n",
        "    def forward(self, x):\n",
        "        x = self.leaky(self.conv1(x))\n",
        "        x = self.pn(x) if self.use_pn else x\n",
        "        x = self.leaky(self.conv2(x))\n",
        "        x = self.pn(x) if self.use_pn else x\n",
        "        return x\n",
        "\n",
        "\n",
        "class Generator(nn.Module):\n",
        "    def __init__(self, z_dim, in_channels, img_channels=3):\n",
        "        super(Generator, self).__init__()\n",
        "\n",
        "        # initial takes 1x1 -> 4x4\n",
        "        self.initial = nn.Sequential(\n",
        "            PixelNorm(),\n",
        "            nn.ConvTranspose2d(z_dim, in_channels, 4, 1, 0),\n",
        "            nn.LeakyReLU(0.2),\n",
        "            WSConv2d(in_channels, in_channels, kernel_size=3, stride=1, padding=1),\n",
        "            nn.LeakyReLU(0.2),\n",
        "            PixelNorm(),\n",
        "        )\n",
        "\n",
        "        # Converts n channel image to rgb channel\n",
        "        self.initial_vec_to_rgb = WSConv2d(\n",
        "            in_channels, img_channels, kernel_size=1, stride=1, padding=0\n",
        "        )\n",
        "\n",
        "        self.prog_blocks, self.vec_to_rgb_layers = (\n",
        "            nn.ModuleList([]),\n",
        "            nn.ModuleList([self.initial_vec_to_rgb]),\n",
        "        )\n",
        "\n",
        "        for i in range(\n",
        "            len(config.FACTORS) - 1\n",
        "        ):  # -1 to prevent index error because of factors[i+1]\n",
        "            conv_in_c = int(in_channels * config.FACTORS[i])\n",
        "            conv_out_c = int(in_channels * config.FACTORS[i + 1])\n",
        "            self.prog_blocks.append(ConvBlock(conv_in_c, conv_out_c))\n",
        "            self.vec_to_rgb_layers.append(\n",
        "                WSConv2d(conv_out_c, img_channels, kernel_size=1, stride=1, padding=0)\n",
        "            )\n",
        "\n",
        "    def fade_in(self, alpha, upscaled, generated):\n",
        "        # alpha should be scalar within [0, 1], and upscale.shape == generated.shape\n",
        "        return alpha * generated + (1 - alpha) * upscaled\n",
        "\n",
        "    def forward(self, x, alpha, steps):\n",
        "        out = self.initial(x) # 1x1 to 4x4\n",
        "\n",
        "        if steps == 0:\n",
        "            return self.initial_vec_to_rgb(out)\n",
        "\n",
        "        for step in range(steps):\n",
        "            upscaled = F.interpolate(out, scale_factor=2, mode=\"nearest\")\n",
        "            out = self.prog_blocks[step](upscaled)\n",
        "\n",
        "        # The number of channels in upscale will stay the same, while\n",
        "        # out which has moved through prog_blocks might change. To ensure\n",
        "        # we can convert both to rgb we use different vec_to_rgb_layers\n",
        "        # (steps-1) and steps for upscaled, out respectively\n",
        "        final_upscaled = self.vec_to_rgb_layers[steps - 1](upscaled)\n",
        "        final_out = self.vec_to_rgb_layers[steps](out)\n",
        "        return torch.tanh(self.fade_in(alpha, final_upscaled, final_out))"
      ]
    },
    {
      "cell_type": "code",
      "execution_count": 8,
      "metadata": {},
      "outputs": [],
      "source": [
        "class Discriminator(nn.Module):\n",
        "    def __init__(self, z_dim, in_channels, img_channels=3):\n",
        "        super(Discriminator, self).__init__()\n",
        "        self.prog_blocks, self.rgb_to_vec_layers = nn.ModuleList([]), nn.ModuleList([])\n",
        "        self.leaky = nn.LeakyReLU(0.2)\n",
        "\n",
        "        # here we work back ways from factors because the discriminator\n",
        "        # should be mirrored from the generator. So the first prog_block and\n",
        "        # rgb_to_vec layer we append will work for input size 1024x1024, then 512->256-> etc\n",
        "        for i in range(len(config.FACTORS) - 1, 0, -1):\n",
        "            conv_in = int(in_channels * config.FACTORS[i])\n",
        "            conv_out = int(in_channels * config.FACTORS[i - 1])\n",
        "            self.prog_blocks.append(ConvBlock(conv_in, conv_out, use_pixelnorm=False))\n",
        "            self.rgb_to_vec_layers.append(\n",
        "                WSConv2d(img_channels, conv_in, kernel_size=1, stride=1, padding=0)\n",
        "            )\n",
        "\n",
        "        # perhaps confusing name \"initial_rgb_to_vec\" this is just the RGBto_vec layer for 4x4 input size\n",
        "        # did this to \"mirror\" the generator initial_rgb_to_vec\n",
        "        self.initial_rgb_to_vec = WSConv2d(\n",
        "            img_channels, in_channels, kernel_size=1, stride=1, padding=0\n",
        "        )\n",
        "        self.rgb_to_vec_layers.append(self.initial_rgb_to_vec)\n",
        "        self.avg_pool = nn.AvgPool2d(\n",
        "            kernel_size=2, stride=2\n",
        "        )  # down sampling using avg pool\n",
        "\n",
        "        # this is the block for 4x4 input size\n",
        "        self.final_block = nn.Sequential(\n",
        "            # +1 to in_channels because we concatenate from MiniBatch std\n",
        "            WSConv2d(in_channels + 1, in_channels, kernel_size=3, padding=1),\n",
        "            nn.LeakyReLU(0.2),\n",
        "            WSConv2d(in_channels, in_channels, kernel_size=4, padding=0, stride=1),\n",
        "            nn.LeakyReLU(0.2),\n",
        "            WSConv2d(\n",
        "                in_channels, 1, kernel_size=1, padding=0, stride=1\n",
        "            ),  # we use this instead of linear layer\n",
        "        )\n",
        "\n",
        "    def fade_in(self, alpha, downscaled, out):\n",
        "        \"\"\"Used to fade in downscaled using avg pooling and output from CNN\"\"\"\n",
        "        # alpha should be scalar within [0, 1], and upscale.shape == generated.shape\n",
        "        return alpha * out + (1 - alpha) * downscaled\n",
        "\n",
        "    def minibatch_std(self, x):\n",
        "        batch_statistics = (\n",
        "            torch.std(x, dim=0).mean().repeat(x.shape[0], 1, x.shape[2], x.shape[3])\n",
        "        )\n",
        "        # we take the std for each example (across all channels, and pixels) then we repeat it\n",
        "        # for a single channel and concatenate it with the image. In this way the discriminator\n",
        "        # will get information about the variation in the batch/image\n",
        "        return torch.cat([x, batch_statistics], dim=1)\n",
        "\n",
        "    def forward(self, x, alpha, steps):\n",
        "        # where we should start in the list of prog_blocks, maybe a bit confusing but\n",
        "        # the last is for the 4x4. So example let's say steps=1, then we should start\n",
        "        # at the second to last because input_size will be 8x8. If steps==0 we just\n",
        "        # use the final block\n",
        "        cur_step = len(self.prog_blocks) - steps\n",
        "\n",
        "        # convert from rgb_to_vec as initial step, this will depend on\n",
        "        # the image size (each will have it's on rgb_to_vec layer)\n",
        "        out = self.leaky(self.rgb_to_vec_layers[cur_step](x))\n",
        "\n",
        "        if steps != 0:# i.e, image is anything other than 4x4\n",
        "            # because prog_blocks might change the channels, for down scale we use rgb_to_vec_layer\n",
        "            # from previous/smaller size which in our case correlates to +1 in the indexing\n",
        "            downscaled = self.leaky(self.rgb_to_vec_layers[cur_step + 1](self.avg_pool(x)))\n",
        "            out = self.avg_pool(self.prog_blocks[cur_step](out))\n",
        "\n",
        "            # the fade_in is done first between the downscaled and the input\n",
        "            # this is opposite from the generator\n",
        "            out = self.fade_in(alpha, downscaled, out)\n",
        "\n",
        "            for step in range(cur_step + 1, len(self.prog_blocks)):\n",
        "                out = self.prog_blocks[step](out)\n",
        "                out = self.avg_pool(out)\n",
        "\n",
        "        out = self.minibatch_std(out)\n",
        "        return self.final_block(out).view(out.shape[0], -1)"
      ]
    },
    {
      "cell_type": "code",
      "execution_count": 9,
      "metadata": {},
      "outputs": [
        {
          "name": "stdout",
          "output_type": "stream",
          "text": [
            "Success! At img size: 4\n",
            "Success! At img size: 8\n",
            "Success! At img size: 16\n",
            "Success! At img size: 32\n",
            "Success! At img size: 64\n",
            "Success! At img size: 128\n"
          ]
        },
        {
          "name": "stderr",
          "output_type": "stream",
          "text": [
            "C:\\Users\\sanya\\AppData\\Local\\Temp\\ipykernel_1940\\1651960601.py:47: UserWarning: std(): degrees of freedom is <= 0. Correction should be strictly less than the reduction factor (input numel divided by output numel). (Triggered internally at C:\\actions-runner\\_work\\pytorch\\pytorch\\builder\\windows\\pytorch\\aten\\src\\ATen\\native\\ReduceOps.cpp:1808.)\n",
            "  torch.std(x, dim=0).mean().repeat(x.shape[0], 1, x.shape[2], x.shape[3])\n"
          ]
        }
      ],
      "source": [
        "gen = Generator(config.Z_DIM, config.IN_CHANNELS, img_channels=3)\n",
        "critic = Discriminator(config.Z_DIM, config.IN_CHANNELS, img_channels=3)\n",
        "\n",
        "for img_size in [4, 8, 16, 32, 64, 128]:\n",
        "    num_steps = int(log2(img_size / 4))\n",
        "    x = torch.randn((1, config.Z_DIM, 1, 1))\n",
        "    z = gen(x, 0.5, steps=num_steps)\n",
        "    assert z.shape == (1, 3, img_size, img_size)\n",
        "    out = critic(z, alpha=0.5, steps=num_steps)\n",
        "    assert out.shape == (1, 1)\n",
        "    print(f\"Success! At img size: {img_size}\")"
      ]
    },
    {
      "cell_type": "markdown",
      "metadata": {
        "id": "eHB4zLF63wkL"
      },
      "source": [
        "## Utils"
      ]
    },
    {
      "cell_type": "code",
      "execution_count": 10,
      "metadata": {
        "id": "K0-LhAg63wkM"
      },
      "outputs": [],
      "source": [
        "# Print losses occasionally and print to tensorboard\n",
        "def plot_to_tensorboard(\n",
        "    writer, loss_critic, loss_gen, real, fake, tensorboard_step\n",
        "):\n",
        "    writer.add_scalar(\"Loss/Critic\", loss_critic, global_step=tensorboard_step, new_style=True)\n",
        "    writer.add_scalar(\"Loss/Gen\", loss_gen, global_step=tensorboard_step, new_style=True)\n",
        "\n",
        "    with torch.no_grad():\n",
        "        # take out (up to) 8 examples to plot\n",
        "        # img_grid_real = torchvision.utils.make_grid(real[:8], normalize=True)\n",
        "        img_grid_fake = torchvision.utils.make_grid(fake[:8], normalize=True)\n",
        "        # writer.add_image(\"Real\", img_grid_real, global_step=tensorboard_step)\n",
        "        writer.add_image(\"Fake\", img_grid_fake, global_step=tensorboard_step)\n",
        "\n",
        "\n",
        "def gradient_penalty(critic, real, fake, alpha, train_step, device=\"cpu\"):\n",
        "    BATCH_SIZE, C, H, W = real.shape\n",
        "    beta = torch.rand((BATCH_SIZE, 1, 1, 1)).repeat(1, C, H, W).to(device)\n",
        "    interpolated_images = real * beta + fake.detach() * (1 - beta)\n",
        "    interpolated_images.requires_grad_(True)\n",
        "\n",
        "    # Calculate critic scores\n",
        "    mixed_scores = critic(interpolated_images, alpha, train_step)\n",
        "\n",
        "    # Take the gradient of the scores with respect to the images\n",
        "    gradient = torch.autograd.grad(\n",
        "        inputs=interpolated_images,\n",
        "        outputs=mixed_scores,\n",
        "        grad_outputs=torch.ones_like(mixed_scores),\n",
        "        create_graph=True,\n",
        "        retain_graph=True,\n",
        "    )[0]\n",
        "    gradient = gradient.view(gradient.shape[0], -1)\n",
        "    gradient_norm = gradient.norm(2, dim=1)\n",
        "    gradient_penalty = torch.mean((gradient_norm - 1) ** 2)\n",
        "    return gradient_penalty\n",
        "\n",
        "\n",
        "def save_checkpoint(model, optimizer, filename=\"my_checkpoint.pth.tar\"):\n",
        "    print(\"=> Saving checkpoint\")\n",
        "    checkpoint = {\n",
        "        \"state_dict\": model.state_dict(),\n",
        "        \"optimizer\": optimizer.state_dict(),\n",
        "    }\n",
        "    torch.save(checkpoint, filename)\n",
        "\n",
        "\n",
        "def load_checkpoint(checkpoint_file, model, optimizer, lr):\n",
        "    print(\"=> Loading checkpoint\")\n",
        "    checkpoint = torch.load(checkpoint_file, map_location=\"cuda\")\n",
        "    model.load_state_dict(checkpoint[\"state_dict\"])\n",
        "    optimizer.load_state_dict(checkpoint[\"optimizer\"])\n",
        "\n",
        "    # If we don't do this then it will just have learning rate of old checkpoint\n",
        "    # and it will lead to many hours of debugging \\:\n",
        "    for param_group in optimizer.param_groups:\n",
        "        param_group[\"lr\"] = lr"
      ]
    },
    {
      "cell_type": "markdown",
      "metadata": {
        "id": "Iws-S7EG3wkM"
      },
      "source": [
        "## Training"
      ]
    },
    {
      "cell_type": "code",
      "execution_count": 6,
      "metadata": {
        "colab": {
          "base_uri": "https://localhost:8080/"
        },
        "id": "nDszn_Y63wkM",
        "outputId": "4876c75b-0005-42d1-8ebf-9ee5f13c7679"
      },
      "outputs": [
        {
          "name": "stdout",
          "output_type": "stream",
          "text": [
            "Current image size: 128\n",
            "Epoch [1/30]\n"
          ]
        },
        {
          "name": "stderr",
          "output_type": "stream",
          "text": [
            "100%|██████████| 6250/6250 [17:55<00:00,  5.81it/s, gp=0.0258, loss_critic=-2.07]   \n"
          ]
        },
        {
          "name": "stdout",
          "output_type": "stream",
          "text": [
            "=> Saving checkpoint\n",
            "=> Saving checkpoint\n",
            "Epoch [2/30]\n"
          ]
        },
        {
          "name": "stderr",
          "output_type": "stream",
          "text": [
            "100%|██████████| 6250/6250 [17:53<00:00,  5.82it/s, gp=0.0227, loss_critic=-0.654]   \n"
          ]
        },
        {
          "name": "stdout",
          "output_type": "stream",
          "text": [
            "=> Saving checkpoint\n",
            "=> Saving checkpoint\n",
            "Epoch [3/30]\n"
          ]
        },
        {
          "name": "stderr",
          "output_type": "stream",
          "text": [
            "100%|██████████| 6250/6250 [17:53<00:00,  5.82it/s, gp=0.0134, loss_critic=-1.37]     \n"
          ]
        },
        {
          "name": "stdout",
          "output_type": "stream",
          "text": [
            "=> Saving checkpoint\n",
            "=> Saving checkpoint\n",
            "Epoch [4/30]\n"
          ]
        },
        {
          "name": "stderr",
          "output_type": "stream",
          "text": [
            "100%|██████████| 6250/6250 [17:51<00:00,  5.84it/s, gp=0.0183, loss_critic=-2.1]     \n"
          ]
        },
        {
          "name": "stdout",
          "output_type": "stream",
          "text": [
            "=> Saving checkpoint\n",
            "=> Saving checkpoint\n",
            "Epoch [5/30]\n"
          ]
        },
        {
          "name": "stderr",
          "output_type": "stream",
          "text": [
            "100%|██████████| 6250/6250 [17:55<00:00,  5.81it/s, gp=0.0106, loss_critic=-1.89]    \n"
          ]
        },
        {
          "name": "stdout",
          "output_type": "stream",
          "text": [
            "=> Saving checkpoint\n",
            "=> Saving checkpoint\n",
            "Epoch [6/30]\n"
          ]
        },
        {
          "name": "stderr",
          "output_type": "stream",
          "text": [
            "100%|██████████| 6250/6250 [17:53<00:00,  5.82it/s, gp=0.0113, loss_critic=-0.517]    \n"
          ]
        },
        {
          "name": "stdout",
          "output_type": "stream",
          "text": [
            "=> Saving checkpoint\n",
            "=> Saving checkpoint\n",
            "Epoch [7/30]\n"
          ]
        },
        {
          "name": "stderr",
          "output_type": "stream",
          "text": [
            "100%|██████████| 6250/6250 [17:54<00:00,  5.82it/s, gp=0.005, loss_critic=-2.6]      \n"
          ]
        },
        {
          "name": "stdout",
          "output_type": "stream",
          "text": [
            "=> Saving checkpoint\n",
            "=> Saving checkpoint\n",
            "Epoch [8/30]\n"
          ]
        },
        {
          "name": "stderr",
          "output_type": "stream",
          "text": [
            "100%|██████████| 6250/6250 [17:52<00:00,  5.83it/s, gp=0.00613, loss_critic=0.584]   \n"
          ]
        },
        {
          "name": "stdout",
          "output_type": "stream",
          "text": [
            "=> Saving checkpoint\n",
            "=> Saving checkpoint\n",
            "Epoch [9/30]\n"
          ]
        },
        {
          "name": "stderr",
          "output_type": "stream",
          "text": [
            "100%|██████████| 6250/6250 [17:54<00:00,  5.82it/s, gp=0.00451, loss_critic=-1.86]   \n"
          ]
        },
        {
          "name": "stdout",
          "output_type": "stream",
          "text": [
            "=> Saving checkpoint\n",
            "=> Saving checkpoint\n",
            "Epoch [10/30]\n"
          ]
        },
        {
          "name": "stderr",
          "output_type": "stream",
          "text": [
            "100%|██████████| 6250/6250 [17:53<00:00,  5.82it/s, gp=0.00801, loss_critic=-1.61]   \n"
          ]
        },
        {
          "name": "stdout",
          "output_type": "stream",
          "text": [
            "=> Saving checkpoint\n",
            "=> Saving checkpoint\n",
            "Epoch [11/30]\n"
          ]
        },
        {
          "name": "stderr",
          "output_type": "stream",
          "text": [
            "100%|██████████| 6250/6250 [17:54<00:00,  5.82it/s, gp=0.0044, loss_critic=0.882]    \n"
          ]
        },
        {
          "name": "stdout",
          "output_type": "stream",
          "text": [
            "=> Saving checkpoint\n",
            "=> Saving checkpoint\n",
            "Epoch [12/30]\n"
          ]
        },
        {
          "name": "stderr",
          "output_type": "stream",
          "text": [
            "100%|██████████| 6250/6250 [17:57<00:00,  5.80it/s, gp=0.0104, loss_critic=0.119]    \n"
          ]
        },
        {
          "name": "stdout",
          "output_type": "stream",
          "text": [
            "=> Saving checkpoint\n",
            "=> Saving checkpoint\n",
            "Epoch [13/30]\n"
          ]
        },
        {
          "name": "stderr",
          "output_type": "stream",
          "text": [
            "100%|██████████| 6250/6250 [17:55<00:00,  5.81it/s, gp=0.0107, loss_critic=-1.49]    \n"
          ]
        },
        {
          "name": "stdout",
          "output_type": "stream",
          "text": [
            "=> Saving checkpoint\n",
            "=> Saving checkpoint\n",
            "Epoch [14/30]\n"
          ]
        },
        {
          "name": "stderr",
          "output_type": "stream",
          "text": [
            "100%|██████████| 6250/6250 [17:54<00:00,  5.81it/s, gp=0.00832, loss_critic=-0.679]  \n"
          ]
        },
        {
          "name": "stdout",
          "output_type": "stream",
          "text": [
            "=> Saving checkpoint\n",
            "=> Saving checkpoint\n",
            "Epoch [15/30]\n"
          ]
        },
        {
          "name": "stderr",
          "output_type": "stream",
          "text": [
            "100%|██████████| 6250/6250 [17:53<00:00,  5.82it/s, gp=0.00739, loss_critic=-2.44]   \n"
          ]
        },
        {
          "name": "stdout",
          "output_type": "stream",
          "text": [
            "=> Saving checkpoint\n",
            "=> Saving checkpoint\n",
            "Epoch [16/30]\n"
          ]
        },
        {
          "name": "stderr",
          "output_type": "stream",
          "text": [
            "100%|██████████| 6250/6250 [17:56<00:00,  5.81it/s, gp=0.00353, loss_critic=-2.11]   \n"
          ]
        },
        {
          "name": "stdout",
          "output_type": "stream",
          "text": [
            "=> Saving checkpoint\n",
            "=> Saving checkpoint\n",
            "Epoch [17/30]\n"
          ]
        },
        {
          "name": "stderr",
          "output_type": "stream",
          "text": [
            "100%|██████████| 6250/6250 [17:57<00:00,  5.80it/s, gp=0.00579, loss_critic=-2.18]   \n"
          ]
        },
        {
          "name": "stdout",
          "output_type": "stream",
          "text": [
            "=> Saving checkpoint\n",
            "=> Saving checkpoint\n",
            "Epoch [18/30]\n"
          ]
        },
        {
          "name": "stderr",
          "output_type": "stream",
          "text": [
            "100%|██████████| 6250/6250 [17:53<00:00,  5.82it/s, gp=0.0147, loss_critic=-0.687]   \n"
          ]
        },
        {
          "name": "stdout",
          "output_type": "stream",
          "text": [
            "=> Saving checkpoint\n",
            "=> Saving checkpoint\n",
            "Epoch [19/30]\n"
          ]
        },
        {
          "name": "stderr",
          "output_type": "stream",
          "text": [
            "100%|██████████| 6250/6250 [17:55<00:00,  5.81it/s, gp=0.0152, loss_critic=-1.63]    \n"
          ]
        },
        {
          "name": "stdout",
          "output_type": "stream",
          "text": [
            "=> Saving checkpoint\n",
            "=> Saving checkpoint\n",
            "Epoch [20/30]\n"
          ]
        },
        {
          "name": "stderr",
          "output_type": "stream",
          "text": [
            "100%|██████████| 6250/6250 [17:55<00:00,  5.81it/s, gp=0.0115, loss_critic=-0.257]   \n"
          ]
        },
        {
          "name": "stdout",
          "output_type": "stream",
          "text": [
            "=> Saving checkpoint\n",
            "=> Saving checkpoint\n",
            "Epoch [21/30]\n"
          ]
        },
        {
          "name": "stderr",
          "output_type": "stream",
          "text": [
            "100%|██████████| 6250/6250 [17:54<00:00,  5.82it/s, gp=0.0147, loss_critic=-2.23]     \n"
          ]
        },
        {
          "name": "stdout",
          "output_type": "stream",
          "text": [
            "=> Saving checkpoint\n",
            "=> Saving checkpoint\n",
            "Epoch [22/30]\n"
          ]
        },
        {
          "name": "stderr",
          "output_type": "stream",
          "text": [
            " 84%|████████▎ | 5229/6250 [14:56<02:53,  5.87it/s, gp=0.0064, loss_critic=-1.02]    "
          ]
        }
      ],
      "source": [
        "torch.backends.cudnn.benchmarks = True\n",
        "\n",
        "\n",
        "def get_loader(image_size):\n",
        "    transform = transforms.Compose(\n",
        "        [\n",
        "            transforms.Resize((image_size, image_size)),\n",
        "            transforms.ToTensor(),\n",
        "            transforms.RandomHorizontalFlip(p=0.5),\n",
        "            transforms.Normalize(\n",
        "                [0.5 for _ in range(config.CHANNELS_IMG)],\n",
        "                [0.5 for _ in range(config.CHANNELS_IMG)],\n",
        "            ),\n",
        "        ]\n",
        "    )\n",
        "    batch_size = config.BATCH_SIZES[int(log2(image_size / 4))]\n",
        "    dataset = datasets.ImageFolder(root=config.DATASET, transform=transform)\n",
        "    class_idx = dataset.class_to_idx[\"real\"]\n",
        "    class_indices = [i for i, label in enumerate(dataset.targets) if label == class_idx]\n",
        "    subset_indices = class_indices[:config.TRAIN_SUBSET_SIZE]\n",
        "    subset_dataset = Subset(dataset, subset_indices)\n",
        "    loader = DataLoader(\n",
        "        subset_dataset,\n",
        "        batch_size=batch_size,\n",
        "        shuffle=True,\n",
        "        num_workers=config.NUM_WORKERS,\n",
        "        pin_memory=True,\n",
        "        drop_last=True\n",
        "    )\n",
        "    return loader, dataset\n",
        "\n",
        "\n",
        "def train_fn(\n",
        "    critic,\n",
        "    gen,\n",
        "    loader,\n",
        "    dataset,\n",
        "    step,\n",
        "    alpha,\n",
        "    opt_critic,\n",
        "    opt_gen,\n",
        "    tensorboard_step,\n",
        "    writer,\n",
        "    scaler_gen,\n",
        "    scaler_critic,\n",
        "    log_folder_name,\n",
        "):\n",
        "    loop = tqdm(loader, leave=True)\n",
        "    for batch_idx, (real, _) in enumerate(loop):\n",
        "        real = real.to(config.DEVICE)\n",
        "        cur_batch_size = real.shape[0]\n",
        "\n",
        "        # Train Critic: max E[critic(real)] - E[critic(fake)] <-> min -E[critic(real)] + E[critic(fake)]\n",
        "        # which is equivalent to minimizing the negative of the expression\n",
        "        noise = torch.randn(cur_batch_size, config.Z_DIM, 1, 1).to(config.DEVICE)\n",
        "\n",
        "        with torch.cuda.amp.autocast():\n",
        "            fake = gen(noise, alpha, step)\n",
        "            critic_real = critic(real, alpha, step)\n",
        "            critic_fake = critic(fake.detach(), alpha, step)\n",
        "            gp = gradient_penalty(critic, real, fake, alpha, step, device=config.DEVICE)\n",
        "            loss_critic = (\n",
        "                -(torch.mean(critic_real) \n",
        "                - torch.mean(critic_fake))\n",
        "                + config.LAMBDA_GP * gp\n",
        "                + (0.001 * torch.mean(critic_real ** 2))\n",
        "            )\n",
        "\n",
        "        opt_critic.zero_grad()\n",
        "        scaler_critic.scale(loss_critic).backward()\n",
        "        scaler_critic.step(opt_critic)\n",
        "        scaler_critic.update()\n",
        "\n",
        "        # Train Generator: max E[critic(gen_fake)] <-> min -E[critic(gen_fake)]\n",
        "        with torch.cuda.amp.autocast():\n",
        "            gen_fake = critic(fake, alpha, step)\n",
        "            loss_gen = -torch.mean(gen_fake)\n",
        "\n",
        "        opt_gen.zero_grad()\n",
        "        scaler_gen.scale(loss_gen).backward()\n",
        "        scaler_gen.step(opt_gen)\n",
        "        scaler_gen.update()\n",
        "\n",
        "        # Update alpha and ensure less than 1\n",
        "        alpha += cur_batch_size / (\n",
        "            (config.PROGRESSIVE_EPOCHS[step] * 0.5) * len(dataset)\n",
        "        )\n",
        "        alpha = min(alpha, 1)\n",
        "\n",
        "        loop.set_postfix(\n",
        "            gp=gp.item(),\n",
        "            loss_critic=loss_critic.item(),\n",
        "            loss_gen=loss_gen.item()\n",
        "        )\n",
        "    \n",
        "    with torch.no_grad():\n",
        "        fixed_fakes = gen(config.FIXED_NOISE, alpha, step) * 0.5 + 0.5\n",
        "    plot_to_tensorboard(\n",
        "        writer,\n",
        "        loss_critic.item(),\n",
        "        loss_gen.item(),\n",
        "        real.detach(),\n",
        "        fixed_fakes.detach(),\n",
        "        tensorboard_step,\n",
        "    )\n",
        "    tensorboard_step += 1\n",
        "    \n",
        "    os.makedirs(log_folder_name + \"training\", exist_ok=True)\n",
        "    save_image(fixed_fakes, log_folder_name + f\"training/{epoch}.png\", normalize=True)\n",
        "\n",
        "    return tensorboard_step, alpha\n",
        "\n",
        "\n",
        "\n",
        "# initialize gen and disc, note: discriminator should be called critic,\n",
        "# according to WGAN paper (since it no longer outputs between [0, 1])\n",
        "# but really who cares..\n",
        "gen = Generator(\n",
        "    config.Z_DIM, config.IN_CHANNELS, img_channels=config.CHANNELS_IMG\n",
        ").to(config.DEVICE)\n",
        "critic = Discriminator(\n",
        "    config.Z_DIM, config.IN_CHANNELS, img_channels=config.CHANNELS_IMG\n",
        ").to(config.DEVICE)\n",
        "\n",
        "# initialize optimizers and scalers for FP16 training\n",
        "opt_gen = optim.Adam(gen.parameters(), lr=config.LEARNING_RATE, betas=(0.0, 0.99))\n",
        "opt_critic = optim.Adam(\n",
        "    critic.parameters(), lr=config.LEARNING_RATE, betas=(0.0, 0.99)\n",
        ")\n",
        "scaler_critic = torch.cuda.amp.GradScaler()\n",
        "scaler_gen = torch.cuda.amp.GradScaler()\n",
        "\n",
        "# for tensorboard plotting\n",
        "log_folder_name = f\"logs/{datetime.datetime.now().strftime('%Y%m%d-%H%M%S')}/\"\n",
        "os.makedirs(log_folder_name, exist_ok=True)\n",
        "writer = SummaryWriter(log_folder_name)\n",
        "\n",
        "if config.LOAD_MODEL:\n",
        "    load_checkpoint(\n",
        "        config.CHECKPOINT_GEN, gen, opt_gen, config.LEARNING_RATE,\n",
        "    )\n",
        "    load_checkpoint(\n",
        "        config.CHECKPOINT_CRITIC, critic, opt_critic, config.LEARNING_RATE,\n",
        "    )\n",
        "\n",
        "gen.train()\n",
        "critic.train()\n",
        "\n",
        "tensorboard_step = 0\n",
        "# start at step that corresponds to img size that we set in config\n",
        "step = int(log2(config.START_TRAIN_AT_IMG_SIZE / 4))\n",
        "for num_epochs in config.PROGRESSIVE_EPOCHS[step:]:\n",
        "    alpha = 1e-5  # start with very low alpha\n",
        "    loader, dataset = get_loader(4 * 2 ** step)  # 4->0, 8->1, 16->2, 32->3, 64 -> 4\n",
        "    print(f\"Current image size: {4 * 2 ** step}\")\n",
        "\n",
        "    for epoch in range(num_epochs):\n",
        "        print(f\"Epoch [{epoch+1}/{num_epochs}]\")\n",
        "        tensorboard_step, alpha = train_fn(\n",
        "            critic,\n",
        "            gen,\n",
        "            loader,\n",
        "            dataset,\n",
        "            step,\n",
        "            alpha,\n",
        "            opt_critic,\n",
        "            opt_gen,\n",
        "            tensorboard_step,\n",
        "            writer,\n",
        "            scaler_gen,\n",
        "            scaler_critic,\n",
        "            log_folder_name,\n",
        "        )\n",
        "\n",
        "        if config.SAVE_MODEL:\n",
        "            save_checkpoint(gen, opt_gen, filename=config.CHECKPOINT_GEN)\n",
        "            save_checkpoint(critic, opt_critic, filename=config.CHECKPOINT_CRITIC)\n",
        "\n",
        "    step += 1  # progress to the next img size"
      ]
    },
    {
      "cell_type": "code",
      "execution_count": 10,
      "metadata": {},
      "outputs": [],
      "source": [
        "def convert_images_to_gif(input_folder, output_gif_path):\n",
        "    images = []\n",
        "    for filename in os.listdir(input_folder):\n",
        "        if filename.endswith(('.png', '.jpg', '.jpeg')):\n",
        "            img_path = os.path.join(input_folder, filename)\n",
        "            img = Image.open(img_path)\n",
        "            images.append(img)\n",
        "    images[0].save(output_gif_path, save_all=True, append_images=images[1:], duration=100, loop=1)\n",
        "\n",
        "\n",
        "convert_images_to_gif(log_folder_name + \"training\", log_folder_name + \"training.gif\")"
      ]
    },
    {
      "cell_type": "markdown",
      "metadata": {},
      "source": [
        "## Inference"
      ]
    },
    {
      "cell_type": "code",
      "execution_count": null,
      "metadata": {},
      "outputs": [],
      "source": [
        "gen = Generator(\n",
        "    config.Z_DIM, config.IN_CHANNELS, img_channels=config.CHANNELS_IMG\n",
        ").to(config.DEVICE)\n",
        "opt_gen = optim.Adam(gen.parameters(), lr=config.LEARNING_RATE, betas=(0.0, 0.99))\n",
        "load_checkpoint(\n",
        "        config.CHECKPOINT_GEN, gen, opt_gen, config.LEARNING_RATE,\n",
        "    )"
      ]
    },
    {
      "cell_type": "code",
      "execution_count": null,
      "metadata": {
        "id": "S49LxwmIt4Ub"
      },
      "outputs": [],
      "source": [
        "import matplotlib.pyplot as plt\n",
        "\n",
        "imgs = []\n",
        "noise = torch.randn(1, config.Z_DIM, 1, 1).to(config.DEVICE)\n",
        "for img_size in [4, 8, 16, 32, 64, 128]:\n",
        "    fake = gen(noise, 1, int(log2(img_size / 4))).squeeze() * 0.5 + 0.5\n",
        "    imgs.append(fake.cpu().detach().permute(1, 2, 0))\n",
        "\n",
        "plt.figure(figsize=(16, 9))\n",
        "for i in range(len(imgs)):\n",
        "    plt.subplot(3, 6, i + 1)\n",
        "    plt.imshow(imgs[i])\n",
        "    plt.axis(\"off\")"
      ]
    },
    {
      "cell_type": "code",
      "execution_count": null,
      "metadata": {},
      "outputs": [],
      "source": []
    }
  ],
  "metadata": {
    "accelerator": "GPU",
    "colab": {
      "gpuType": "T4",
      "provenance": []
    },
    "kernelspec": {
      "display_name": "env",
      "language": "python",
      "name": "python3"
    },
    "language_info": {
      "codemirror_mode": {
        "name": "ipython",
        "version": 3
      },
      "file_extension": ".py",
      "mimetype": "text/x-python",
      "name": "python",
      "nbconvert_exporter": "python",
      "pygments_lexer": "ipython3",
      "version": "3.10.5"
    }
  },
  "nbformat": 4,
  "nbformat_minor": 0
}
